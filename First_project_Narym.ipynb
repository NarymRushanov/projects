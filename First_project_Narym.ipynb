{
 "cells": [
  {
   "cell_type": "code",
   "execution_count": 1,
   "metadata": {},
   "outputs": [],
   "source": [
    "# Импорт библиотек\n",
    "import pandas as pd \n",
    "import numpy as np \n",
    "import seaborn as sns\n",
    "import datetime as dt\n",
    "import matplotlib.pyplot as plt\n",
    "import plotly.express as px\n",
    "from calendar import monthrange"
   ]
  },
  {
   "cell_type": "code",
   "execution_count": 2,
   "metadata": {},
   "outputs": [],
   "source": [
    "# Загружаем датасеты\n",
    "order_items = pd.read_csv('https://getfile.dokpub.com/yandex/get/https://disk.yandex.ru/d/xCsQ0FiC-Ue4Lg')\n",
    "orders      = pd.read_csv('https://getfile.dokpub.com/yandex/get/https://disk.yandex.ru/d/0zWmh1bYP6REbw')\n",
    "customers   = pd.read_csv('https://getfile.dokpub.com/yandex/get/https://disk.yandex.ru/d/QXrVDUoQvFhIcg')"
   ]
  },
  {
   "cell_type": "code",
   "execution_count": 3,
   "metadata": {},
   "outputs": [
    {
     "data": {
      "text/plain": [
       "order_id                object\n",
       "order_item_id            int64\n",
       "product_id              object\n",
       "seller_id               object\n",
       "shipping_limit_date     object\n",
       "price                  float64\n",
       "freight_value          float64\n",
       "dtype: object"
      ]
     },
     "execution_count": 3,
     "metadata": {},
     "output_type": "execute_result"
    }
   ],
   "source": [
    "#Проверяем типы в датасетах\n",
    "order_items.dtypes"
   ]
  },
  {
   "cell_type": "code",
   "execution_count": 4,
   "metadata": {},
   "outputs": [
    {
     "data": {
      "text/plain": [
       "order_id                         object\n",
       "customer_id                      object\n",
       "order_status                     object\n",
       "order_purchase_timestamp         object\n",
       "order_approved_at                object\n",
       "order_delivered_carrier_date     object\n",
       "order_delivered_customer_date    object\n",
       "order_estimated_delivery_date    object\n",
       "dtype: object"
      ]
     },
     "execution_count": 4,
     "metadata": {},
     "output_type": "execute_result"
    }
   ],
   "source": [
    "orders.dtypes"
   ]
  },
  {
   "cell_type": "code",
   "execution_count": 5,
   "metadata": {},
   "outputs": [
    {
     "data": {
      "text/plain": [
       "customer_id                 object\n",
       "customer_unique_id          object\n",
       "customer_zip_code_prefix     int64\n",
       "customer_city               object\n",
       "customer_state              object\n",
       "dtype: object"
      ]
     },
     "execution_count": 5,
     "metadata": {},
     "output_type": "execute_result"
    }
   ],
   "source": [
    "customers.dtypes"
   ]
  },
  {
   "cell_type": "code",
   "execution_count": 6,
   "metadata": {},
   "outputs": [],
   "source": [
    "# Изменяем тип для дат в orders\n",
    "date_columns=['order_purchase_timestamp','order_approved_at',\n",
    "              'order_delivered_carrier_date',\n",
    "              'order_delivered_customer_date','order_estimated_delivery_date']\n",
    "orders[date_columns]=orders[date_columns].apply(pd.to_datetime)"
   ]
  },
  {
   "cell_type": "code",
   "execution_count": 7,
   "metadata": {},
   "outputs": [
    {
     "data": {
      "text/plain": [
       "order_id                                 object\n",
       "customer_id                              object\n",
       "order_status                             object\n",
       "order_purchase_timestamp         datetime64[ns]\n",
       "order_approved_at                datetime64[ns]\n",
       "order_delivered_carrier_date     datetime64[ns]\n",
       "order_delivered_customer_date    datetime64[ns]\n",
       "order_estimated_delivery_date    datetime64[ns]\n",
       "dtype: object"
      ]
     },
     "execution_count": 7,
     "metadata": {},
     "output_type": "execute_result"
    }
   ],
   "source": [
    "# Проверяем изменение\n",
    "orders.dtypes"
   ]
  },
  {
   "cell_type": "markdown",
   "metadata": {},
   "source": [
    "-"
   ]
  },
  {
   "cell_type": "markdown",
   "metadata": {},
   "source": [
    "В датасете orders - у нас информация по заказам, их статусам и установки времени на каком либо из этапов,\n",
    "customers - данным по клиентам,почтовый индекс, город и штат\n",
    "order_items - все содержимое заказа"
   ]
  },
  {
   "cell_type": "markdown",
   "metadata": {},
   "source": [
    "У нас не так много описывающих что-то, можем описать данные с order_items "
   ]
  },
  {
   "cell_type": "code",
   "execution_count": 8,
   "metadata": {},
   "outputs": [
    {
     "data": {
      "text/html": [
       "<div>\n",
       "<style scoped>\n",
       "    .dataframe tbody tr th:only-of-type {\n",
       "        vertical-align: middle;\n",
       "    }\n",
       "\n",
       "    .dataframe tbody tr th {\n",
       "        vertical-align: top;\n",
       "    }\n",
       "\n",
       "    .dataframe thead th {\n",
       "        text-align: right;\n",
       "    }\n",
       "</style>\n",
       "<table border=\"1\" class=\"dataframe\">\n",
       "  <thead>\n",
       "    <tr style=\"text-align: right;\">\n",
       "      <th></th>\n",
       "      <th>order_item_id</th>\n",
       "      <th>price</th>\n",
       "      <th>freight_value</th>\n",
       "    </tr>\n",
       "  </thead>\n",
       "  <tbody>\n",
       "    <tr>\n",
       "      <th>count</th>\n",
       "      <td>112650.000000</td>\n",
       "      <td>112650.000000</td>\n",
       "      <td>112650.000000</td>\n",
       "    </tr>\n",
       "    <tr>\n",
       "      <th>mean</th>\n",
       "      <td>1.197834</td>\n",
       "      <td>120.653739</td>\n",
       "      <td>19.990320</td>\n",
       "    </tr>\n",
       "    <tr>\n",
       "      <th>std</th>\n",
       "      <td>0.705124</td>\n",
       "      <td>183.633928</td>\n",
       "      <td>15.806405</td>\n",
       "    </tr>\n",
       "    <tr>\n",
       "      <th>min</th>\n",
       "      <td>1.000000</td>\n",
       "      <td>0.850000</td>\n",
       "      <td>0.000000</td>\n",
       "    </tr>\n",
       "    <tr>\n",
       "      <th>25%</th>\n",
       "      <td>1.000000</td>\n",
       "      <td>39.900000</td>\n",
       "      <td>13.080000</td>\n",
       "    </tr>\n",
       "    <tr>\n",
       "      <th>50%</th>\n",
       "      <td>1.000000</td>\n",
       "      <td>74.990000</td>\n",
       "      <td>16.260000</td>\n",
       "    </tr>\n",
       "    <tr>\n",
       "      <th>75%</th>\n",
       "      <td>1.000000</td>\n",
       "      <td>134.900000</td>\n",
       "      <td>21.150000</td>\n",
       "    </tr>\n",
       "    <tr>\n",
       "      <th>max</th>\n",
       "      <td>21.000000</td>\n",
       "      <td>6735.000000</td>\n",
       "      <td>409.680000</td>\n",
       "    </tr>\n",
       "  </tbody>\n",
       "</table>\n",
       "</div>"
      ],
      "text/plain": [
       "       order_item_id          price  freight_value\n",
       "count  112650.000000  112650.000000  112650.000000\n",
       "mean        1.197834     120.653739      19.990320\n",
       "std         0.705124     183.633928      15.806405\n",
       "min         1.000000       0.850000       0.000000\n",
       "25%         1.000000      39.900000      13.080000\n",
       "50%         1.000000      74.990000      16.260000\n",
       "75%         1.000000     134.900000      21.150000\n",
       "max        21.000000    6735.000000     409.680000"
      ]
     },
     "execution_count": 8,
     "metadata": {},
     "output_type": "execute_result"
    }
   ],
   "source": [
    "order_items.describe()\n",
    "# Методом describe выявили среднее значение цены, веса, их максимум и минимум. \n",
    "# Будем осведомлены и каких то сильно выбиващихся значений не замечаем"
   ]
  },
  {
   "cell_type": "code",
   "execution_count": 9,
   "metadata": {},
   "outputs": [
    {
     "data": {
      "text/plain": [
       "order_id                            0\n",
       "customer_id                         0\n",
       "order_status                        0\n",
       "order_purchase_timestamp            0\n",
       "order_approved_at                 160\n",
       "order_delivered_carrier_date     1783\n",
       "order_delivered_customer_date    2965\n",
       "order_estimated_delivery_date       0\n",
       "dtype: int64"
      ]
     },
     "execution_count": 9,
     "metadata": {},
     "output_type": "execute_result"
    }
   ],
   "source": [
    "# Проверим полноту данных\n",
    "orders.isna().sum()"
   ]
  },
  {
   "cell_type": "code",
   "execution_count": 10,
   "metadata": {},
   "outputs": [
    {
     "data": {
      "text/plain": [
       "order_id               0\n",
       "order_item_id          0\n",
       "product_id             0\n",
       "seller_id              0\n",
       "shipping_limit_date    0\n",
       "price                  0\n",
       "freight_value          0\n",
       "dtype: int64"
      ]
     },
     "execution_count": 10,
     "metadata": {},
     "output_type": "execute_result"
    }
   ],
   "source": [
    "order_items.isna().sum()"
   ]
  },
  {
   "cell_type": "code",
   "execution_count": 11,
   "metadata": {},
   "outputs": [
    {
     "data": {
      "text/plain": [
       "customer_id                 0\n",
       "customer_unique_id          0\n",
       "customer_zip_code_prefix    0\n",
       "customer_city               0\n",
       "customer_state              0\n",
       "dtype: int64"
      ]
     },
     "execution_count": 11,
     "metadata": {},
     "output_type": "execute_result"
    }
   ],
   "source": [
    "customers.isna().sum()"
   ]
  },
  {
   "cell_type": "code",
   "execution_count": 12,
   "metadata": {},
   "outputs": [
    {
     "data": {
      "text/html": [
       "<div>\n",
       "<style scoped>\n",
       "    .dataframe tbody tr th:only-of-type {\n",
       "        vertical-align: middle;\n",
       "    }\n",
       "\n",
       "    .dataframe tbody tr th {\n",
       "        vertical-align: top;\n",
       "    }\n",
       "\n",
       "    .dataframe thead th {\n",
       "        text-align: right;\n",
       "    }\n",
       "</style>\n",
       "<table border=\"1\" class=\"dataframe\">\n",
       "  <thead>\n",
       "    <tr style=\"text-align: right;\">\n",
       "      <th></th>\n",
       "      <th>order_id</th>\n",
       "      <th>customer_id</th>\n",
       "      <th>order_status</th>\n",
       "      <th>order_purchase_timestamp</th>\n",
       "      <th>order_approved_at</th>\n",
       "      <th>order_delivered_carrier_date</th>\n",
       "      <th>order_delivered_customer_date</th>\n",
       "      <th>order_estimated_delivery_date</th>\n",
       "    </tr>\n",
       "  </thead>\n",
       "  <tbody>\n",
       "    <tr>\n",
       "      <th>0</th>\n",
       "      <td>e481f51cbdc54678b7cc49136f2d6af7</td>\n",
       "      <td>9ef432eb6251297304e76186b10a928d</td>\n",
       "      <td>delivered</td>\n",
       "      <td>2017-10-02 10:56:33</td>\n",
       "      <td>2017-10-02 11:07:15</td>\n",
       "      <td>2017-10-04 19:55:00</td>\n",
       "      <td>2017-10-10 21:25:13</td>\n",
       "      <td>2017-10-18</td>\n",
       "    </tr>\n",
       "    <tr>\n",
       "      <th>1</th>\n",
       "      <td>53cdb2fc8bc7dce0b6741e2150273451</td>\n",
       "      <td>b0830fb4747a6c6d20dea0b8c802d7ef</td>\n",
       "      <td>delivered</td>\n",
       "      <td>2018-07-24 20:41:37</td>\n",
       "      <td>2018-07-26 03:24:27</td>\n",
       "      <td>2018-07-26 14:31:00</td>\n",
       "      <td>2018-08-07 15:27:45</td>\n",
       "      <td>2018-08-13</td>\n",
       "    </tr>\n",
       "    <tr>\n",
       "      <th>2</th>\n",
       "      <td>47770eb9100c2d0c44946d9cf07ec65d</td>\n",
       "      <td>41ce2a54c0b03bf3443c3d931a367089</td>\n",
       "      <td>delivered</td>\n",
       "      <td>2018-08-08 08:38:49</td>\n",
       "      <td>2018-08-08 08:55:23</td>\n",
       "      <td>2018-08-08 13:50:00</td>\n",
       "      <td>2018-08-17 18:06:29</td>\n",
       "      <td>2018-09-04</td>\n",
       "    </tr>\n",
       "    <tr>\n",
       "      <th>3</th>\n",
       "      <td>949d5b44dbf5de918fe9c16f97b45f8a</td>\n",
       "      <td>f88197465ea7920adcdbec7375364d82</td>\n",
       "      <td>delivered</td>\n",
       "      <td>2017-11-18 19:28:06</td>\n",
       "      <td>2017-11-18 19:45:59</td>\n",
       "      <td>2017-11-22 13:39:59</td>\n",
       "      <td>2017-12-02 00:28:42</td>\n",
       "      <td>2017-12-15</td>\n",
       "    </tr>\n",
       "    <tr>\n",
       "      <th>4</th>\n",
       "      <td>ad21c59c0840e6cb83a9ceb5573f8159</td>\n",
       "      <td>8ab97904e6daea8866dbdbc4fb7aad2c</td>\n",
       "      <td>delivered</td>\n",
       "      <td>2018-02-13 21:18:39</td>\n",
       "      <td>2018-02-13 22:20:29</td>\n",
       "      <td>2018-02-14 19:46:34</td>\n",
       "      <td>2018-02-16 18:17:02</td>\n",
       "      <td>2018-02-26</td>\n",
       "    </tr>\n",
       "    <tr>\n",
       "      <th>5</th>\n",
       "      <td>a4591c265e18cb1dcee52889e2d8acc3</td>\n",
       "      <td>503740e9ca751ccdda7ba28e9ab8f608</td>\n",
       "      <td>delivered</td>\n",
       "      <td>2017-07-09 21:57:05</td>\n",
       "      <td>2017-07-09 22:10:13</td>\n",
       "      <td>2017-07-11 14:58:04</td>\n",
       "      <td>2017-07-26 10:57:55</td>\n",
       "      <td>2017-08-01</td>\n",
       "    </tr>\n",
       "    <tr>\n",
       "      <th>6</th>\n",
       "      <td>136cce7faa42fdb2cefd53fdc79a6098</td>\n",
       "      <td>ed0271e0b7da060a393796590e7b737a</td>\n",
       "      <td>invoiced</td>\n",
       "      <td>2017-04-11 12:22:08</td>\n",
       "      <td>2017-04-13 13:25:17</td>\n",
       "      <td>NaT</td>\n",
       "      <td>NaT</td>\n",
       "      <td>2017-05-09</td>\n",
       "    </tr>\n",
       "    <tr>\n",
       "      <th>7</th>\n",
       "      <td>6514b8ad8028c9f2cc2374ded245783f</td>\n",
       "      <td>9bdf08b4b3b52b5526ff42d37d47f222</td>\n",
       "      <td>delivered</td>\n",
       "      <td>2017-05-16 13:10:30</td>\n",
       "      <td>2017-05-16 13:22:11</td>\n",
       "      <td>2017-05-22 10:07:46</td>\n",
       "      <td>2017-05-26 12:55:51</td>\n",
       "      <td>2017-06-07</td>\n",
       "    </tr>\n",
       "    <tr>\n",
       "      <th>8</th>\n",
       "      <td>76c6e866289321a7c93b82b54852dc33</td>\n",
       "      <td>f54a9f0e6b351c431402b8461ea51999</td>\n",
       "      <td>delivered</td>\n",
       "      <td>2017-01-23 18:29:09</td>\n",
       "      <td>2017-01-25 02:50:47</td>\n",
       "      <td>2017-01-26 14:16:31</td>\n",
       "      <td>2017-02-02 14:08:10</td>\n",
       "      <td>2017-03-06</td>\n",
       "    </tr>\n",
       "    <tr>\n",
       "      <th>9</th>\n",
       "      <td>e69bfb5eb88e0ed6a785585b27e16dbf</td>\n",
       "      <td>31ad1d1b63eb9962463f764d4e6e0c9d</td>\n",
       "      <td>delivered</td>\n",
       "      <td>2017-07-29 11:55:02</td>\n",
       "      <td>2017-07-29 12:05:32</td>\n",
       "      <td>2017-08-10 19:45:24</td>\n",
       "      <td>2017-08-16 17:14:30</td>\n",
       "      <td>2017-08-23</td>\n",
       "    </tr>\n",
       "  </tbody>\n",
       "</table>\n",
       "</div>"
      ],
      "text/plain": [
       "                           order_id                       customer_id  \\\n",
       "0  e481f51cbdc54678b7cc49136f2d6af7  9ef432eb6251297304e76186b10a928d   \n",
       "1  53cdb2fc8bc7dce0b6741e2150273451  b0830fb4747a6c6d20dea0b8c802d7ef   \n",
       "2  47770eb9100c2d0c44946d9cf07ec65d  41ce2a54c0b03bf3443c3d931a367089   \n",
       "3  949d5b44dbf5de918fe9c16f97b45f8a  f88197465ea7920adcdbec7375364d82   \n",
       "4  ad21c59c0840e6cb83a9ceb5573f8159  8ab97904e6daea8866dbdbc4fb7aad2c   \n",
       "5  a4591c265e18cb1dcee52889e2d8acc3  503740e9ca751ccdda7ba28e9ab8f608   \n",
       "6  136cce7faa42fdb2cefd53fdc79a6098  ed0271e0b7da060a393796590e7b737a   \n",
       "7  6514b8ad8028c9f2cc2374ded245783f  9bdf08b4b3b52b5526ff42d37d47f222   \n",
       "8  76c6e866289321a7c93b82b54852dc33  f54a9f0e6b351c431402b8461ea51999   \n",
       "9  e69bfb5eb88e0ed6a785585b27e16dbf  31ad1d1b63eb9962463f764d4e6e0c9d   \n",
       "\n",
       "  order_status order_purchase_timestamp   order_approved_at  \\\n",
       "0    delivered      2017-10-02 10:56:33 2017-10-02 11:07:15   \n",
       "1    delivered      2018-07-24 20:41:37 2018-07-26 03:24:27   \n",
       "2    delivered      2018-08-08 08:38:49 2018-08-08 08:55:23   \n",
       "3    delivered      2017-11-18 19:28:06 2017-11-18 19:45:59   \n",
       "4    delivered      2018-02-13 21:18:39 2018-02-13 22:20:29   \n",
       "5    delivered      2017-07-09 21:57:05 2017-07-09 22:10:13   \n",
       "6     invoiced      2017-04-11 12:22:08 2017-04-13 13:25:17   \n",
       "7    delivered      2017-05-16 13:10:30 2017-05-16 13:22:11   \n",
       "8    delivered      2017-01-23 18:29:09 2017-01-25 02:50:47   \n",
       "9    delivered      2017-07-29 11:55:02 2017-07-29 12:05:32   \n",
       "\n",
       "  order_delivered_carrier_date order_delivered_customer_date  \\\n",
       "0          2017-10-04 19:55:00           2017-10-10 21:25:13   \n",
       "1          2018-07-26 14:31:00           2018-08-07 15:27:45   \n",
       "2          2018-08-08 13:50:00           2018-08-17 18:06:29   \n",
       "3          2017-11-22 13:39:59           2017-12-02 00:28:42   \n",
       "4          2018-02-14 19:46:34           2018-02-16 18:17:02   \n",
       "5          2017-07-11 14:58:04           2017-07-26 10:57:55   \n",
       "6                          NaT                           NaT   \n",
       "7          2017-05-22 10:07:46           2017-05-26 12:55:51   \n",
       "8          2017-01-26 14:16:31           2017-02-02 14:08:10   \n",
       "9          2017-08-10 19:45:24           2017-08-16 17:14:30   \n",
       "\n",
       "  order_estimated_delivery_date  \n",
       "0                    2017-10-18  \n",
       "1                    2018-08-13  \n",
       "2                    2018-09-04  \n",
       "3                    2017-12-15  \n",
       "4                    2018-02-26  \n",
       "5                    2017-08-01  \n",
       "6                    2017-05-09  \n",
       "7                    2017-06-07  \n",
       "8                    2017-03-06  \n",
       "9                    2017-08-23  "
      ]
     },
     "execution_count": 12,
     "metadata": {},
     "output_type": "execute_result"
    }
   ],
   "source": [
    "orders.head(10)\n",
    "# У нас есть пропуски в некоторых столбцах с датами. Так как заказы не дошли до какого либо из статусов заказа"
   ]
  },
  {
   "cell_type": "markdown",
   "metadata": {},
   "source": [
    "Данные orders и order_items связаны.\n",
    "Вопрос, все ли заказы из orders есть в order_items и наоборот. Данные одной из таблиц служат источником"
   ]
  },
  {
   "cell_type": "code",
   "execution_count": 13,
   "metadata": {},
   "outputs": [
    {
     "data": {
      "text/plain": [
       "order_id                         99441\n",
       "customer_id                      99441\n",
       "order_status                         8\n",
       "order_purchase_timestamp         98875\n",
       "order_approved_at                90733\n",
       "order_delivered_carrier_date     81018\n",
       "order_delivered_customer_date    95664\n",
       "order_estimated_delivery_date      459\n",
       "dtype: int64"
      ]
     },
     "execution_count": 13,
     "metadata": {},
     "output_type": "execute_result"
    }
   ],
   "source": [
    "orders.nunique()"
   ]
  },
  {
   "cell_type": "code",
   "execution_count": 14,
   "metadata": {},
   "outputs": [
    {
     "data": {
      "text/plain": [
       "order_id               98666\n",
       "order_item_id             21\n",
       "product_id             32951\n",
       "seller_id               3095\n",
       "shipping_limit_date    93318\n",
       "price                   5968\n",
       "freight_value           6999\n",
       "dtype: int64"
      ]
     },
     "execution_count": 14,
     "metadata": {},
     "output_type": "execute_result"
    }
   ],
   "source": [
    "order_items.nunique()\n",
    "# У нас 99441 уникальных заказа в orders и 98666 заказов в order_items. Похоже не все заказы есть order_items. \n",
    "# Подозреваю, что это вполне возможно могут быть отмененные или недоступные заказы "
   ]
  },
  {
   "cell_type": "code",
   "execution_count": 15,
   "metadata": {},
   "outputs": [],
   "source": [
    "check_order=orders.merge(order_items,how='left',on='order_id')"
   ]
  },
  {
   "cell_type": "code",
   "execution_count": 16,
   "metadata": {},
   "outputs": [
    {
     "data": {
      "text/plain": [
       "unavailable    603\n",
       "canceled       164\n",
       "created          5\n",
       "invoiced         2\n",
       "shipped          1\n",
       "Name: order_status, dtype: int64"
      ]
     },
     "execution_count": 16,
     "metadata": {},
     "output_type": "execute_result"
    }
   ],
   "source": [
    "check_order[check_order['product_id'].isna()].order_status.value_counts()"
   ]
  },
  {
   "cell_type": "markdown",
   "metadata": {},
   "source": [
    "Как и думал ранее, у нас больший пул заказов отсутствующих в order_items это заказы в статусе unavailable и canceled, но есть 5 заказов созданных, 2 оплаченных и 1 уже отгрузили со склада. Интересно понять, что же мы везем клиенту. Отправим эти заказы на проверку"
   ]
  },
  {
   "cell_type": "markdown",
   "metadata": {},
   "source": [
    "Этап исследования данных закончили дальше по заданиям"
   ]
  },
  {
   "cell_type": "markdown",
   "metadata": {},
   "source": [
    "# 1. Сколько у нас пользователей, которые совершили покупку только один раз? (7 баллов) \n",
    "\n"
   ]
  },
  {
   "cell_type": "markdown",
   "metadata": {},
   "source": [
    "Во-первых, необходимо понять что мы будем считать покупкой\n",
    "У нас есть 8 статусов заказа.\n",
    "created —  создан\n",
    "approved —  подтверждён\n",
    "invoiced —  выставлен счёт\n",
    "processing —  в процессе сборки заказа\n",
    "shipped —  отгружен со склада\n",
    "delivered —  доставлен пользователю\n",
    "unavailable —  недоступен\n",
    "canceled —  отменён\n",
    "\n",
    "Из всех точно можно убирать недоступные,отменненные, созданные и выставленные счета. Процесс либо уже закончился либо только начинается.\n",
    "\n",
    "По моему мнению, покупкой будет учитываться только заказы в статусе Доставлен(Delivered). Мы доставили заказ, получили оплату. Больше процессов нет. На любом из другом статусов у нас все еще присуствует вероятность отмены со стороны клиента заказа или процесс может поломаться\n",
    "\n",
    "Решено, берем только delivered"
   ]
  },
  {
   "cell_type": "code",
   "execution_count": 17,
   "metadata": {},
   "outputs": [],
   "source": [
    "user_order=orders.merge(customers,how='left',on='customer_id')"
   ]
  },
  {
   "cell_type": "code",
   "execution_count": 18,
   "metadata": {},
   "outputs": [
    {
     "data": {
      "text/html": [
       "<div>\n",
       "<style scoped>\n",
       "    .dataframe tbody tr th:only-of-type {\n",
       "        vertical-align: middle;\n",
       "    }\n",
       "\n",
       "    .dataframe tbody tr th {\n",
       "        vertical-align: top;\n",
       "    }\n",
       "\n",
       "    .dataframe thead th {\n",
       "        text-align: right;\n",
       "    }\n",
       "</style>\n",
       "<table border=\"1\" class=\"dataframe\">\n",
       "  <thead>\n",
       "    <tr style=\"text-align: right;\">\n",
       "      <th></th>\n",
       "      <th>customer_unique_id</th>\n",
       "      <th>order_id</th>\n",
       "    </tr>\n",
       "  </thead>\n",
       "  <tbody>\n",
       "    <tr>\n",
       "      <th>62128</th>\n",
       "      <td>aa2cdc62c7b89b46ec1ba94671673fef</td>\n",
       "      <td>1</td>\n",
       "    </tr>\n",
       "    <tr>\n",
       "      <th>63577</th>\n",
       "      <td>ae1ae3876de9647147dbc7a9c13921db</td>\n",
       "      <td>1</td>\n",
       "    </tr>\n",
       "    <tr>\n",
       "      <th>63769</th>\n",
       "      <td>ae9b719375655dab3c518d76cc37a843</td>\n",
       "      <td>1</td>\n",
       "    </tr>\n",
       "    <tr>\n",
       "      <th>63771</th>\n",
       "      <td>ae9de284f9466c14dc7d15e9f3002e27</td>\n",
       "      <td>1</td>\n",
       "    </tr>\n",
       "    <tr>\n",
       "      <th>62403</th>\n",
       "      <td>aae6530a7fc9a3cd24a6bb4c40dca541</td>\n",
       "      <td>1</td>\n",
       "    </tr>\n",
       "    <tr>\n",
       "      <th>...</th>\n",
       "      <td>...</td>\n",
       "      <td>...</td>\n",
       "    </tr>\n",
       "    <tr>\n",
       "      <th>31564</th>\n",
       "      <td>565811ed44e539a14bc391cf57373ed1</td>\n",
       "      <td>1</td>\n",
       "    </tr>\n",
       "    <tr>\n",
       "      <th>31563</th>\n",
       "      <td>5657f9f721c16800a66c21081d46b18d</td>\n",
       "      <td>1</td>\n",
       "    </tr>\n",
       "    <tr>\n",
       "      <th>31562</th>\n",
       "      <td>5657dfebff5868c4dc7e8355fea865c4</td>\n",
       "      <td>1</td>\n",
       "    </tr>\n",
       "    <tr>\n",
       "      <th>31561</th>\n",
       "      <td>5657596addb4d7b07b32cd330614bdf8</td>\n",
       "      <td>1</td>\n",
       "    </tr>\n",
       "    <tr>\n",
       "      <th>93357</th>\n",
       "      <td>ffffd2657e2aad2907e67c3e9daecbeb</td>\n",
       "      <td>1</td>\n",
       "    </tr>\n",
       "  </tbody>\n",
       "</table>\n",
       "<p>90557 rows × 2 columns</p>\n",
       "</div>"
      ],
      "text/plain": [
       "                     customer_unique_id  order_id\n",
       "62128  aa2cdc62c7b89b46ec1ba94671673fef         1\n",
       "63577  ae1ae3876de9647147dbc7a9c13921db         1\n",
       "63769  ae9b719375655dab3c518d76cc37a843         1\n",
       "63771  ae9de284f9466c14dc7d15e9f3002e27         1\n",
       "62403  aae6530a7fc9a3cd24a6bb4c40dca541         1\n",
       "...                                 ...       ...\n",
       "31564  565811ed44e539a14bc391cf57373ed1         1\n",
       "31563  5657f9f721c16800a66c21081d46b18d         1\n",
       "31562  5657dfebff5868c4dc7e8355fea865c4         1\n",
       "31561  5657596addb4d7b07b32cd330614bdf8         1\n",
       "93357  ffffd2657e2aad2907e67c3e9daecbeb         1\n",
       "\n",
       "[90557 rows x 2 columns]"
      ]
     },
     "execution_count": 18,
     "metadata": {},
     "output_type": "execute_result"
    }
   ],
   "source": [
    "user_order.query('order_status==\"delivered\"')\\\n",
    ".groupby('customer_unique_id',as_index=False)\\\n",
    ".agg({'order_id':'nunique'})\\\n",
    ".sort_values('order_id',ascending=False)\\\n",
    ".query('order_id==1')"
   ]
  },
  {
   "cell_type": "markdown",
   "metadata": {},
   "source": [
    "Подтянул к orders данные с таблицы customers. Так как все customer_id в orders уникальны для каждого заказа. Добавил данные уникального id клиента. Данные сгрупировал, расчитал кол-во уникальных заказов и отфильтровал только те, где на одного клиента приходится 1 заказ. "
   ]
  },
  {
   "cell_type": "markdown",
   "metadata": {},
   "source": [
    "# Итого: 90557 клиентов  совершивших покупку только один раз"
   ]
  },
  {
   "cell_type": "markdown",
   "metadata": {},
   "source": [
    "# 2. Сколько заказов в месяц в среднем не доставляется по разным причинам (вывести детализацию по причинам)? (10 баллов)"
   ]
  },
  {
   "cell_type": "markdown",
   "metadata": {},
   "source": [
    "Сразу перейдем к вопросу, какой заказ будем учитывать как не доставленный.\n",
    "Логичо что все заказы в статусах canceled,unavailable. А можем ли добавить что-то еще. Доставленные конечно же учитывать не можем"
   ]
  },
  {
   "cell_type": "markdown",
   "metadata": {},
   "source": [
    "Можно предположить диапазон дат и утверждать что заказы, которые очень долго с момента создания висят на определенном статусе уже не будут доставлены\n"
   ]
  },
  {
   "cell_type": "code",
   "execution_count": 19,
   "metadata": {},
   "outputs": [
    {
     "data": {
      "text/plain": [
       "order_id                         00010242fe8c5a6d1ba2dd792cb16214\n",
       "customer_id                      00012a2ce6f8dcda20d059ce98491703\n",
       "order_status                                             approved\n",
       "order_purchase_timestamp                      2016-09-04 21:15:19\n",
       "order_approved_at                             2016-09-15 12:16:38\n",
       "order_delivered_carrier_date                  2016-10-08 10:34:01\n",
       "order_delivered_customer_date                 2016-10-11 13:46:32\n",
       "order_estimated_delivery_date                 2016-09-30 00:00:00\n",
       "dtype: object"
      ]
     },
     "execution_count": 19,
     "metadata": {},
     "output_type": "execute_result"
    }
   ],
   "source": [
    "orders.min()"
   ]
  },
  {
   "cell_type": "code",
   "execution_count": 20,
   "metadata": {},
   "outputs": [
    {
     "data": {
      "text/plain": [
       "order_id                         fffe41c64501cc87c801fd61db3f6244\n",
       "customer_id                      ffffe8b65bbe3087b653a978c870db99\n",
       "order_status                                          unavailable\n",
       "order_purchase_timestamp                      2018-10-17 17:30:18\n",
       "order_approved_at                             2018-09-03 17:40:06\n",
       "order_delivered_carrier_date                  2018-09-11 19:48:28\n",
       "order_delivered_customer_date                 2018-10-17 13:22:46\n",
       "order_estimated_delivery_date                 2018-11-12 00:00:00\n",
       "dtype: object"
      ]
     },
     "execution_count": 20,
     "metadata": {},
     "output_type": "execute_result"
    }
   ],
   "source": [
    "orders.max()"
   ]
  },
  {
   "cell_type": "markdown",
   "metadata": {},
   "source": [
    "У нас есть максимальная дата, будем на ее основании предполагать что датафрейм мы смотрим как раз таки на ее момент. \n",
    "2018 год 17 октября"
   ]
  },
  {
   "cell_type": "code",
   "execution_count": 21,
   "metadata": {},
   "outputs": [],
   "source": [
    "# Посчитаем разницу между датой создания и датой фактической доставки, поймем как долго мы доставляем заказы обычно\n",
    "orders['razn']=orders['order_delivered_customer_date']-orders['order_purchase_timestamp']"
   ]
  },
  {
   "cell_type": "code",
   "execution_count": 22,
   "metadata": {},
   "outputs": [
    {
     "data": {
      "text/html": [
       "<div>\n",
       "<style scoped>\n",
       "    .dataframe tbody tr th:only-of-type {\n",
       "        vertical-align: middle;\n",
       "    }\n",
       "\n",
       "    .dataframe tbody tr th {\n",
       "        vertical-align: top;\n",
       "    }\n",
       "\n",
       "    .dataframe thead th {\n",
       "        text-align: right;\n",
       "    }\n",
       "</style>\n",
       "<table border=\"1\" class=\"dataframe\">\n",
       "  <thead>\n",
       "    <tr style=\"text-align: right;\">\n",
       "      <th></th>\n",
       "      <th>order_id</th>\n",
       "      <th>customer_id</th>\n",
       "      <th>order_status</th>\n",
       "      <th>order_purchase_timestamp</th>\n",
       "      <th>order_approved_at</th>\n",
       "      <th>order_delivered_carrier_date</th>\n",
       "      <th>order_delivered_customer_date</th>\n",
       "      <th>order_estimated_delivery_date</th>\n",
       "      <th>razn</th>\n",
       "    </tr>\n",
       "  </thead>\n",
       "  <tbody>\n",
       "    <tr>\n",
       "      <th>31522</th>\n",
       "      <td>1d893dd7ca5f77ebf5f59f0d2017eee0</td>\n",
       "      <td>b19da0df0271e8a3553e3670f86aeab5</td>\n",
       "      <td>delivered</td>\n",
       "      <td>2017-06-19 08:19:45</td>\n",
       "      <td>2017-06-19 08:30:20</td>\n",
       "      <td>2017-06-19 13:32:04</td>\n",
       "      <td>2017-06-19 21:07:52</td>\n",
       "      <td>2017-06-30</td>\n",
       "      <td>0 days 12:48:07</td>\n",
       "    </tr>\n",
       "    <tr>\n",
       "      <th>41803</th>\n",
       "      <td>434cecee7d1a65fc65358a632b6f725f</td>\n",
       "      <td>922a46283625e9c096bfd998913c470c</td>\n",
       "      <td>delivered</td>\n",
       "      <td>2017-05-29 13:21:46</td>\n",
       "      <td>2017-05-29 13:30:24</td>\n",
       "      <td>2017-05-29 14:54:51</td>\n",
       "      <td>2017-05-30 08:06:56</td>\n",
       "      <td>2017-06-19</td>\n",
       "      <td>0 days 18:45:10</td>\n",
       "    </tr>\n",
       "    <tr>\n",
       "      <th>38792</th>\n",
       "      <td>f3c6775ba3d2d9fe2826f93b71f12008</td>\n",
       "      <td>6aef84c09844a371d82a49152c550b95</td>\n",
       "      <td>delivered</td>\n",
       "      <td>2017-07-04 11:37:47</td>\n",
       "      <td>2017-07-04 11:50:21</td>\n",
       "      <td>2017-07-04 13:53:13</td>\n",
       "      <td>2017-07-05 08:09:26</td>\n",
       "      <td>2017-07-17</td>\n",
       "      <td>0 days 20:31:39</td>\n",
       "    </tr>\n",
       "    <tr>\n",
       "      <th>97428</th>\n",
       "      <td>8339b608be0d84fca9d8da68b58332c3</td>\n",
       "      <td>ff58662c328f81d3ee549c9caa942f39</td>\n",
       "      <td>delivered</td>\n",
       "      <td>2018-06-26 20:48:33</td>\n",
       "      <td>2018-06-26 21:07:25</td>\n",
       "      <td>2018-06-27 11:31:00</td>\n",
       "      <td>2018-06-27 17:31:53</td>\n",
       "      <td>2018-07-25</td>\n",
       "      <td>0 days 20:43:20</td>\n",
       "    </tr>\n",
       "    <tr>\n",
       "      <th>69580</th>\n",
       "      <td>bb5a519e352b45b714192a02ffe25681</td>\n",
       "      <td>118295a853acb536efff13740faf5be8</td>\n",
       "      <td>delivered</td>\n",
       "      <td>2017-05-31 11:11:55</td>\n",
       "      <td>2017-05-31 11:22:55</td>\n",
       "      <td>2017-05-31 11:36:15</td>\n",
       "      <td>2017-06-01 08:34:36</td>\n",
       "      <td>2017-06-27</td>\n",
       "      <td>0 days 21:22:41</td>\n",
       "    </tr>\n",
       "    <tr>\n",
       "      <th>...</th>\n",
       "      <td>...</td>\n",
       "      <td>...</td>\n",
       "      <td>...</td>\n",
       "      <td>...</td>\n",
       "      <td>...</td>\n",
       "      <td>...</td>\n",
       "      <td>...</td>\n",
       "      <td>...</td>\n",
       "      <td>...</td>\n",
       "    </tr>\n",
       "    <tr>\n",
       "      <th>79263</th>\n",
       "      <td>e69f75a717d64fc5ecdfae42b2e8e086</td>\n",
       "      <td>cfda40ca8dd0a5d486a9635b611b398a</td>\n",
       "      <td>delivered</td>\n",
       "      <td>2018-07-01 22:05:55</td>\n",
       "      <td>2018-07-01 22:15:14</td>\n",
       "      <td>2018-07-03 13:57:00</td>\n",
       "      <td>NaT</td>\n",
       "      <td>2018-07-30</td>\n",
       "      <td>NaT</td>\n",
       "    </tr>\n",
       "    <tr>\n",
       "      <th>82868</th>\n",
       "      <td>0d3268bad9b086af767785e3f0fc0133</td>\n",
       "      <td>4f1d63d35fb7c8999853b2699f5c7649</td>\n",
       "      <td>delivered</td>\n",
       "      <td>2018-07-01 21:14:02</td>\n",
       "      <td>2018-07-01 21:29:54</td>\n",
       "      <td>2018-07-03 09:28:00</td>\n",
       "      <td>NaT</td>\n",
       "      <td>2018-07-24</td>\n",
       "      <td>NaT</td>\n",
       "    </tr>\n",
       "    <tr>\n",
       "      <th>92643</th>\n",
       "      <td>2d858f451373b04fb5c984a1cc2defaf</td>\n",
       "      <td>e08caf668d499a6d643dafd7c5cc498a</td>\n",
       "      <td>delivered</td>\n",
       "      <td>2017-05-25 23:22:43</td>\n",
       "      <td>2017-05-25 23:30:16</td>\n",
       "      <td>NaT</td>\n",
       "      <td>NaT</td>\n",
       "      <td>2017-06-23</td>\n",
       "      <td>NaT</td>\n",
       "    </tr>\n",
       "    <tr>\n",
       "      <th>97647</th>\n",
       "      <td>ab7c89dc1bf4a1ead9d6ec1ec8968a84</td>\n",
       "      <td>dd1b84a7286eb4524d52af4256c0ba24</td>\n",
       "      <td>delivered</td>\n",
       "      <td>2018-06-08 12:09:39</td>\n",
       "      <td>2018-06-08 12:36:39</td>\n",
       "      <td>2018-06-12 14:10:00</td>\n",
       "      <td>NaT</td>\n",
       "      <td>2018-06-26</td>\n",
       "      <td>NaT</td>\n",
       "    </tr>\n",
       "    <tr>\n",
       "      <th>98038</th>\n",
       "      <td>20edc82cf5400ce95e1afacc25798b31</td>\n",
       "      <td>28c37425f1127d887d7337f284080a0f</td>\n",
       "      <td>delivered</td>\n",
       "      <td>2018-06-27 16:09:12</td>\n",
       "      <td>2018-06-27 16:29:30</td>\n",
       "      <td>2018-07-03 19:26:00</td>\n",
       "      <td>NaT</td>\n",
       "      <td>2018-07-19</td>\n",
       "      <td>NaT</td>\n",
       "    </tr>\n",
       "  </tbody>\n",
       "</table>\n",
       "<p>96478 rows × 9 columns</p>\n",
       "</div>"
      ],
      "text/plain": [
       "                               order_id                       customer_id  \\\n",
       "31522  1d893dd7ca5f77ebf5f59f0d2017eee0  b19da0df0271e8a3553e3670f86aeab5   \n",
       "41803  434cecee7d1a65fc65358a632b6f725f  922a46283625e9c096bfd998913c470c   \n",
       "38792  f3c6775ba3d2d9fe2826f93b71f12008  6aef84c09844a371d82a49152c550b95   \n",
       "97428  8339b608be0d84fca9d8da68b58332c3  ff58662c328f81d3ee549c9caa942f39   \n",
       "69580  bb5a519e352b45b714192a02ffe25681  118295a853acb536efff13740faf5be8   \n",
       "...                                 ...                               ...   \n",
       "79263  e69f75a717d64fc5ecdfae42b2e8e086  cfda40ca8dd0a5d486a9635b611b398a   \n",
       "82868  0d3268bad9b086af767785e3f0fc0133  4f1d63d35fb7c8999853b2699f5c7649   \n",
       "92643  2d858f451373b04fb5c984a1cc2defaf  e08caf668d499a6d643dafd7c5cc498a   \n",
       "97647  ab7c89dc1bf4a1ead9d6ec1ec8968a84  dd1b84a7286eb4524d52af4256c0ba24   \n",
       "98038  20edc82cf5400ce95e1afacc25798b31  28c37425f1127d887d7337f284080a0f   \n",
       "\n",
       "      order_status order_purchase_timestamp   order_approved_at  \\\n",
       "31522    delivered      2017-06-19 08:19:45 2017-06-19 08:30:20   \n",
       "41803    delivered      2017-05-29 13:21:46 2017-05-29 13:30:24   \n",
       "38792    delivered      2017-07-04 11:37:47 2017-07-04 11:50:21   \n",
       "97428    delivered      2018-06-26 20:48:33 2018-06-26 21:07:25   \n",
       "69580    delivered      2017-05-31 11:11:55 2017-05-31 11:22:55   \n",
       "...            ...                      ...                 ...   \n",
       "79263    delivered      2018-07-01 22:05:55 2018-07-01 22:15:14   \n",
       "82868    delivered      2018-07-01 21:14:02 2018-07-01 21:29:54   \n",
       "92643    delivered      2017-05-25 23:22:43 2017-05-25 23:30:16   \n",
       "97647    delivered      2018-06-08 12:09:39 2018-06-08 12:36:39   \n",
       "98038    delivered      2018-06-27 16:09:12 2018-06-27 16:29:30   \n",
       "\n",
       "      order_delivered_carrier_date order_delivered_customer_date  \\\n",
       "31522          2017-06-19 13:32:04           2017-06-19 21:07:52   \n",
       "41803          2017-05-29 14:54:51           2017-05-30 08:06:56   \n",
       "38792          2017-07-04 13:53:13           2017-07-05 08:09:26   \n",
       "97428          2018-06-27 11:31:00           2018-06-27 17:31:53   \n",
       "69580          2017-05-31 11:36:15           2017-06-01 08:34:36   \n",
       "...                            ...                           ...   \n",
       "79263          2018-07-03 13:57:00                           NaT   \n",
       "82868          2018-07-03 09:28:00                           NaT   \n",
       "92643                          NaT                           NaT   \n",
       "97647          2018-06-12 14:10:00                           NaT   \n",
       "98038          2018-07-03 19:26:00                           NaT   \n",
       "\n",
       "      order_estimated_delivery_date            razn  \n",
       "31522                    2017-06-30 0 days 12:48:07  \n",
       "41803                    2017-06-19 0 days 18:45:10  \n",
       "38792                    2017-07-17 0 days 20:31:39  \n",
       "97428                    2018-07-25 0 days 20:43:20  \n",
       "69580                    2017-06-27 0 days 21:22:41  \n",
       "...                             ...             ...  \n",
       "79263                    2018-07-30             NaT  \n",
       "82868                    2018-07-24             NaT  \n",
       "92643                    2017-06-23             NaT  \n",
       "97647                    2018-06-26             NaT  \n",
       "98038                    2018-07-19             NaT  \n",
       "\n",
       "[96478 rows x 9 columns]"
      ]
     },
     "execution_count": 22,
     "metadata": {},
     "output_type": "execute_result"
    }
   ],
   "source": [
    "# Посмотрим какая разница у нас в целом бывает начиая от меньших значений\n",
    "orders.query('order_status==\"delivered\"').sort_values('razn')"
   ]
  },
  {
   "cell_type": "markdown",
   "metadata": {},
   "source": [
    "У нас есть какие-то заказы в статусе доставлен, но не имеющих время доставки заказа до клиента"
   ]
  },
  {
   "cell_type": "code",
   "execution_count": 23,
   "metadata": {},
   "outputs": [
    {
     "data": {
      "text/html": [
       "<div>\n",
       "<style scoped>\n",
       "    .dataframe tbody tr th:only-of-type {\n",
       "        vertical-align: middle;\n",
       "    }\n",
       "\n",
       "    .dataframe tbody tr th {\n",
       "        vertical-align: top;\n",
       "    }\n",
       "\n",
       "    .dataframe thead th {\n",
       "        text-align: right;\n",
       "    }\n",
       "</style>\n",
       "<table border=\"1\" class=\"dataframe\">\n",
       "  <thead>\n",
       "    <tr style=\"text-align: right;\">\n",
       "      <th></th>\n",
       "      <th>order_id</th>\n",
       "      <th>customer_id</th>\n",
       "      <th>order_status</th>\n",
       "      <th>order_purchase_timestamp</th>\n",
       "      <th>order_approved_at</th>\n",
       "      <th>order_delivered_carrier_date</th>\n",
       "      <th>order_delivered_customer_date</th>\n",
       "      <th>order_estimated_delivery_date</th>\n",
       "      <th>razn</th>\n",
       "    </tr>\n",
       "  </thead>\n",
       "  <tbody>\n",
       "    <tr>\n",
       "      <th>3002</th>\n",
       "      <td>2d1e2d5bf4dc7227b3bfebb81328c15f</td>\n",
       "      <td>ec05a6d8558c6455f0cbbd8a420ad34f</td>\n",
       "      <td>delivered</td>\n",
       "      <td>2017-11-28 17:44:07</td>\n",
       "      <td>2017-11-28 17:56:40</td>\n",
       "      <td>2017-11-30 18:12:23</td>\n",
       "      <td>NaT</td>\n",
       "      <td>2017-12-18</td>\n",
       "      <td>NaT</td>\n",
       "    </tr>\n",
       "    <tr>\n",
       "      <th>20618</th>\n",
       "      <td>f5dd62b788049ad9fc0526e3ad11a097</td>\n",
       "      <td>5e89028e024b381dc84a13a3570decb4</td>\n",
       "      <td>delivered</td>\n",
       "      <td>2018-06-20 06:58:43</td>\n",
       "      <td>2018-06-20 07:19:05</td>\n",
       "      <td>2018-06-25 08:05:00</td>\n",
       "      <td>NaT</td>\n",
       "      <td>2018-07-16</td>\n",
       "      <td>NaT</td>\n",
       "    </tr>\n",
       "    <tr>\n",
       "      <th>43834</th>\n",
       "      <td>2ebdfc4f15f23b91474edf87475f108e</td>\n",
       "      <td>29f0540231702fda0cfdee0a310f11aa</td>\n",
       "      <td>delivered</td>\n",
       "      <td>2018-07-01 17:05:11</td>\n",
       "      <td>2018-07-01 17:15:12</td>\n",
       "      <td>2018-07-03 13:57:00</td>\n",
       "      <td>NaT</td>\n",
       "      <td>2018-07-30</td>\n",
       "      <td>NaT</td>\n",
       "    </tr>\n",
       "    <tr>\n",
       "      <th>79263</th>\n",
       "      <td>e69f75a717d64fc5ecdfae42b2e8e086</td>\n",
       "      <td>cfda40ca8dd0a5d486a9635b611b398a</td>\n",
       "      <td>delivered</td>\n",
       "      <td>2018-07-01 22:05:55</td>\n",
       "      <td>2018-07-01 22:15:14</td>\n",
       "      <td>2018-07-03 13:57:00</td>\n",
       "      <td>NaT</td>\n",
       "      <td>2018-07-30</td>\n",
       "      <td>NaT</td>\n",
       "    </tr>\n",
       "    <tr>\n",
       "      <th>82868</th>\n",
       "      <td>0d3268bad9b086af767785e3f0fc0133</td>\n",
       "      <td>4f1d63d35fb7c8999853b2699f5c7649</td>\n",
       "      <td>delivered</td>\n",
       "      <td>2018-07-01 21:14:02</td>\n",
       "      <td>2018-07-01 21:29:54</td>\n",
       "      <td>2018-07-03 09:28:00</td>\n",
       "      <td>NaT</td>\n",
       "      <td>2018-07-24</td>\n",
       "      <td>NaT</td>\n",
       "    </tr>\n",
       "    <tr>\n",
       "      <th>92643</th>\n",
       "      <td>2d858f451373b04fb5c984a1cc2defaf</td>\n",
       "      <td>e08caf668d499a6d643dafd7c5cc498a</td>\n",
       "      <td>delivered</td>\n",
       "      <td>2017-05-25 23:22:43</td>\n",
       "      <td>2017-05-25 23:30:16</td>\n",
       "      <td>NaT</td>\n",
       "      <td>NaT</td>\n",
       "      <td>2017-06-23</td>\n",
       "      <td>NaT</td>\n",
       "    </tr>\n",
       "    <tr>\n",
       "      <th>97647</th>\n",
       "      <td>ab7c89dc1bf4a1ead9d6ec1ec8968a84</td>\n",
       "      <td>dd1b84a7286eb4524d52af4256c0ba24</td>\n",
       "      <td>delivered</td>\n",
       "      <td>2018-06-08 12:09:39</td>\n",
       "      <td>2018-06-08 12:36:39</td>\n",
       "      <td>2018-06-12 14:10:00</td>\n",
       "      <td>NaT</td>\n",
       "      <td>2018-06-26</td>\n",
       "      <td>NaT</td>\n",
       "    </tr>\n",
       "    <tr>\n",
       "      <th>98038</th>\n",
       "      <td>20edc82cf5400ce95e1afacc25798b31</td>\n",
       "      <td>28c37425f1127d887d7337f284080a0f</td>\n",
       "      <td>delivered</td>\n",
       "      <td>2018-06-27 16:09:12</td>\n",
       "      <td>2018-06-27 16:29:30</td>\n",
       "      <td>2018-07-03 19:26:00</td>\n",
       "      <td>NaT</td>\n",
       "      <td>2018-07-19</td>\n",
       "      <td>NaT</td>\n",
       "    </tr>\n",
       "  </tbody>\n",
       "</table>\n",
       "</div>"
      ],
      "text/plain": [
       "                               order_id                       customer_id  \\\n",
       "3002   2d1e2d5bf4dc7227b3bfebb81328c15f  ec05a6d8558c6455f0cbbd8a420ad34f   \n",
       "20618  f5dd62b788049ad9fc0526e3ad11a097  5e89028e024b381dc84a13a3570decb4   \n",
       "43834  2ebdfc4f15f23b91474edf87475f108e  29f0540231702fda0cfdee0a310f11aa   \n",
       "79263  e69f75a717d64fc5ecdfae42b2e8e086  cfda40ca8dd0a5d486a9635b611b398a   \n",
       "82868  0d3268bad9b086af767785e3f0fc0133  4f1d63d35fb7c8999853b2699f5c7649   \n",
       "92643  2d858f451373b04fb5c984a1cc2defaf  e08caf668d499a6d643dafd7c5cc498a   \n",
       "97647  ab7c89dc1bf4a1ead9d6ec1ec8968a84  dd1b84a7286eb4524d52af4256c0ba24   \n",
       "98038  20edc82cf5400ce95e1afacc25798b31  28c37425f1127d887d7337f284080a0f   \n",
       "\n",
       "      order_status order_purchase_timestamp   order_approved_at  \\\n",
       "3002     delivered      2017-11-28 17:44:07 2017-11-28 17:56:40   \n",
       "20618    delivered      2018-06-20 06:58:43 2018-06-20 07:19:05   \n",
       "43834    delivered      2018-07-01 17:05:11 2018-07-01 17:15:12   \n",
       "79263    delivered      2018-07-01 22:05:55 2018-07-01 22:15:14   \n",
       "82868    delivered      2018-07-01 21:14:02 2018-07-01 21:29:54   \n",
       "92643    delivered      2017-05-25 23:22:43 2017-05-25 23:30:16   \n",
       "97647    delivered      2018-06-08 12:09:39 2018-06-08 12:36:39   \n",
       "98038    delivered      2018-06-27 16:09:12 2018-06-27 16:29:30   \n",
       "\n",
       "      order_delivered_carrier_date order_delivered_customer_date  \\\n",
       "3002           2017-11-30 18:12:23                           NaT   \n",
       "20618          2018-06-25 08:05:00                           NaT   \n",
       "43834          2018-07-03 13:57:00                           NaT   \n",
       "79263          2018-07-03 13:57:00                           NaT   \n",
       "82868          2018-07-03 09:28:00                           NaT   \n",
       "92643                          NaT                           NaT   \n",
       "97647          2018-06-12 14:10:00                           NaT   \n",
       "98038          2018-07-03 19:26:00                           NaT   \n",
       "\n",
       "      order_estimated_delivery_date razn  \n",
       "3002                     2017-12-18  NaT  \n",
       "20618                    2018-07-16  NaT  \n",
       "43834                    2018-07-30  NaT  \n",
       "79263                    2018-07-30  NaT  \n",
       "82868                    2018-07-24  NaT  \n",
       "92643                    2017-06-23  NaT  \n",
       "97647                    2018-06-26  NaT  \n",
       "98038                    2018-07-19  NaT  "
      ]
     },
     "execution_count": 23,
     "metadata": {},
     "output_type": "execute_result"
    }
   ],
   "source": [
    "orders[orders['razn'].isna()].query('order_status==\"delivered\"')\n",
    "# 8 заказов в статусе доставлен не имеющих дату доставки "
   ]
  },
  {
   "cell_type": "code",
   "execution_count": 24,
   "metadata": {},
   "outputs": [
    {
     "data": {
      "text/plain": [
       "delivered    96470\n",
       "canceled         6\n",
       "Name: order_status, dtype: int64"
      ]
     },
     "execution_count": 24,
     "metadata": {},
     "output_type": "execute_result"
    }
   ],
   "source": [
    "# Проверим обратное, нет ли у нас случаем заказов с датой доставки, имеющих другой статус\n",
    "orders[orders['razn'].notna()].order_status.value_counts()\n",
    "# есть заказы со статусом отмены и имеющими дату доставки. Похоже заказы доставили, но позднее была произведена отмена заказа"
   ]
  },
  {
   "cell_type": "code",
   "execution_count": 25,
   "metadata": {},
   "outputs": [
    {
     "data": {
      "text/plain": [
       "count                         96470\n",
       "mean     12 days 13:23:49.957271690\n",
       "std       9 days 13:06:27.911052929\n",
       "min                 0 days 12:48:07\n",
       "25%                 6 days 18:23:20\n",
       "50%                10 days 05:13:10\n",
       "75%         15 days 17:17:03.750000\n",
       "max               209 days 15:05:12\n",
       "Name: razn, dtype: object"
      ]
     },
     "execution_count": 25,
     "metadata": {},
     "output_type": "execute_result"
    }
   ],
   "source": [
    "# Возвращаясь к времени доставки, посмотрим примерный диапазон времени, только по доставленным и имеющим дату доставки\n",
    "orders[orders['razn'].notna()].query('order_status==\"delivered\"').razn.describe()"
   ]
  },
  {
   "cell_type": "markdown",
   "metadata": {},
   "source": [
    "В среднем доставляем за период в 12 дней, есть совершенно быстрые кейсы за период в 12 часов. Так и заоблачно высокий период в 209 дней. Поражаюсь выдержки клиента. В целом даже в 75 процентиле доставка проходит в течении 15 дней. Обратимся к процентилям"
   ]
  },
  {
   "cell_type": "code",
   "execution_count": 26,
   "metadata": {},
   "outputs": [
    {
     "data": {
      "text/plain": [
       "Timedelta('83 days 03:20:51.875000198')"
      ]
     },
     "execution_count": 26,
     "metadata": {},
     "output_type": "execute_result"
    }
   ],
   "source": [
    "# Возьмем за основу 99.9 процентиль, 83 дня и 3 часа, мы делаем допущение на 0.1% заказов, которые будут доставлены позднее\n",
    "orders['razn'].quantile(0.999)"
   ]
  },
  {
   "cell_type": "markdown",
   "metadata": {},
   "source": [
    "Как и отмечал ранее,смотрим все данные на момент 17 октября 2018 года. Берем эту дату, высчитываем для каждого заказа момент времени от даты создания до текущей даты и считаем недоставленными все заказы превыщающие 99.9 процентиль нашего времени доставки."
   ]
  },
  {
   "cell_type": "code",
   "execution_count": 27,
   "metadata": {},
   "outputs": [],
   "source": [
    "maybe_today_date= dt.datetime(2018,10,17,17,40,0) # Год, месяц, день, час, минута, секунда\n"
   ]
  },
  {
   "cell_type": "code",
   "execution_count": 28,
   "metadata": {},
   "outputs": [],
   "source": [
    "orders['dost_check']=maybe_today_date-orders['order_purchase_timestamp']"
   ]
  },
  {
   "cell_type": "code",
   "execution_count": 29,
   "metadata": {},
   "outputs": [
    {
     "data": {
      "text/html": [
       "<div>\n",
       "<style scoped>\n",
       "    .dataframe tbody tr th:only-of-type {\n",
       "        vertical-align: middle;\n",
       "    }\n",
       "\n",
       "    .dataframe tbody tr th {\n",
       "        vertical-align: top;\n",
       "    }\n",
       "\n",
       "    .dataframe thead th {\n",
       "        text-align: right;\n",
       "    }\n",
       "</style>\n",
       "<table border=\"1\" class=\"dataframe\">\n",
       "  <thead>\n",
       "    <tr style=\"text-align: right;\">\n",
       "      <th></th>\n",
       "      <th>order_id</th>\n",
       "      <th>customer_id</th>\n",
       "      <th>order_status</th>\n",
       "      <th>order_purchase_timestamp</th>\n",
       "      <th>order_approved_at</th>\n",
       "      <th>order_delivered_carrier_date</th>\n",
       "      <th>order_delivered_customer_date</th>\n",
       "      <th>order_estimated_delivery_date</th>\n",
       "      <th>razn</th>\n",
       "      <th>dost_check</th>\n",
       "    </tr>\n",
       "  </thead>\n",
       "  <tbody>\n",
       "    <tr>\n",
       "      <th>62360</th>\n",
       "      <td>54282e97f61c23b78330c15b154c867d</td>\n",
       "      <td>4b7decb9b58e2569548b8b4c8e20e8d7</td>\n",
       "      <td>shipped</td>\n",
       "      <td>2018-09-03 09:06:57</td>\n",
       "      <td>2018-09-03 17:40:06</td>\n",
       "      <td>2018-09-04 15:25:00</td>\n",
       "      <td>NaT</td>\n",
       "      <td>2018-09-06</td>\n",
       "      <td>NaT</td>\n",
       "      <td>44 days 08:33:03</td>\n",
       "    </tr>\n",
       "    <tr>\n",
       "      <th>22575</th>\n",
       "      <td>6ca46f2b9a1592929647682510800e0e</td>\n",
       "      <td>13bf775a749925a15ef7cc1985b564f1</td>\n",
       "      <td>shipped</td>\n",
       "      <td>2018-08-24 17:02:19</td>\n",
       "      <td>2018-08-24 17:15:10</td>\n",
       "      <td>2018-08-27 15:15:00</td>\n",
       "      <td>NaT</td>\n",
       "      <td>2018-08-29</td>\n",
       "      <td>NaT</td>\n",
       "      <td>54 days 00:37:41</td>\n",
       "    </tr>\n",
       "    <tr>\n",
       "      <th>24944</th>\n",
       "      <td>99b3fb1a943fa5d4af2a3386f00fdd19</td>\n",
       "      <td>aa03e52d50af7237a5963ffb09dd8872</td>\n",
       "      <td>shipped</td>\n",
       "      <td>2018-08-22 09:01:17</td>\n",
       "      <td>2018-08-22 09:10:17</td>\n",
       "      <td>2018-08-23 14:09:00</td>\n",
       "      <td>NaT</td>\n",
       "      <td>2018-08-30</td>\n",
       "      <td>NaT</td>\n",
       "      <td>56 days 08:38:43</td>\n",
       "    </tr>\n",
       "    <tr>\n",
       "      <th>72213</th>\n",
       "      <td>2a06568281fa1a485b9ba5fac48c7df2</td>\n",
       "      <td>317b6bd739f5504c8cdb3979cdca9328</td>\n",
       "      <td>shipped</td>\n",
       "      <td>2018-08-21 11:00:37</td>\n",
       "      <td>2018-08-21 11:10:17</td>\n",
       "      <td>2018-08-21 17:04:00</td>\n",
       "      <td>NaT</td>\n",
       "      <td>2018-08-24</td>\n",
       "      <td>NaT</td>\n",
       "      <td>57 days 06:39:23</td>\n",
       "    </tr>\n",
       "    <tr>\n",
       "      <th>29651</th>\n",
       "      <td>f73b31435ce6dec43df056154c39a1ce</td>\n",
       "      <td>f0f671d4034e98cdf20f0c452d6db02b</td>\n",
       "      <td>shipped</td>\n",
       "      <td>2018-08-20 12:37:54</td>\n",
       "      <td>2018-08-20 15:35:42</td>\n",
       "      <td>2018-08-24 16:48:00</td>\n",
       "      <td>NaT</td>\n",
       "      <td>2018-08-27</td>\n",
       "      <td>NaT</td>\n",
       "      <td>58 days 05:02:06</td>\n",
       "    </tr>\n",
       "    <tr>\n",
       "      <th>...</th>\n",
       "      <td>...</td>\n",
       "      <td>...</td>\n",
       "      <td>...</td>\n",
       "      <td>...</td>\n",
       "      <td>...</td>\n",
       "      <td>...</td>\n",
       "      <td>...</td>\n",
       "      <td>...</td>\n",
       "      <td>...</td>\n",
       "      <td>...</td>\n",
       "    </tr>\n",
       "    <tr>\n",
       "      <th>32817</th>\n",
       "      <td>a6475bb7a50387e3c665534e15bd40ac</td>\n",
       "      <td>442d66f0d96f656096dd70f1b0391e40</td>\n",
       "      <td>invoiced</td>\n",
       "      <td>2016-10-04 16:28:25</td>\n",
       "      <td>2016-10-05 02:46:17</td>\n",
       "      <td>NaT</td>\n",
       "      <td>NaT</td>\n",
       "      <td>2016-11-28</td>\n",
       "      <td>NaT</td>\n",
       "      <td>743 days 01:11:35</td>\n",
       "    </tr>\n",
       "    <tr>\n",
       "      <th>18535</th>\n",
       "      <td>5cb8558cbb7c0c2f00f43468579d3e3c</td>\n",
       "      <td>2ff5a6455514da421bd25d6e4ceb1d12</td>\n",
       "      <td>shipped</td>\n",
       "      <td>2016-10-04 15:02:37</td>\n",
       "      <td>2016-10-05 03:10:59</td>\n",
       "      <td>2016-10-15 10:14:10</td>\n",
       "      <td>NaT</td>\n",
       "      <td>2016-12-02</td>\n",
       "      <td>NaT</td>\n",
       "      <td>743 days 02:37:23</td>\n",
       "    </tr>\n",
       "    <tr>\n",
       "      <th>24222</th>\n",
       "      <td>711b9be9c346d9ecdb9d38a5e1e7e39b</td>\n",
       "      <td>81e4aed5ab4253757305267b80712689</td>\n",
       "      <td>invoiced</td>\n",
       "      <td>2016-10-04 13:38:37</td>\n",
       "      <td>2016-10-04 14:08:38</td>\n",
       "      <td>NaT</td>\n",
       "      <td>NaT</td>\n",
       "      <td>2016-11-24</td>\n",
       "      <td>NaT</td>\n",
       "      <td>743 days 04:01:23</td>\n",
       "    </tr>\n",
       "    <tr>\n",
       "      <th>78824</th>\n",
       "      <td>dd359d3c294458c6d642b2eea9212bf5</td>\n",
       "      <td>5c58d1ea5a893380ecdd96dd6dfd5ec5</td>\n",
       "      <td>invoiced</td>\n",
       "      <td>2016-10-04 13:02:10</td>\n",
       "      <td>2016-10-05 03:08:27</td>\n",
       "      <td>NaT</td>\n",
       "      <td>NaT</td>\n",
       "      <td>2016-11-24</td>\n",
       "      <td>NaT</td>\n",
       "      <td>743 days 04:37:50</td>\n",
       "    </tr>\n",
       "    <tr>\n",
       "      <th>4541</th>\n",
       "      <td>2e7a8482f6fb09756ca50c10d7bfc047</td>\n",
       "      <td>08c5351a6aca1c1589a38f244edeee9d</td>\n",
       "      <td>shipped</td>\n",
       "      <td>2016-09-04 21:15:19</td>\n",
       "      <td>2016-10-07 13:18:03</td>\n",
       "      <td>2016-10-18 13:14:51</td>\n",
       "      <td>NaT</td>\n",
       "      <td>2016-10-20</td>\n",
       "      <td>NaT</td>\n",
       "      <td>772 days 20:24:41</td>\n",
       "    </tr>\n",
       "  </tbody>\n",
       "</table>\n",
       "<p>1729 rows × 10 columns</p>\n",
       "</div>"
      ],
      "text/plain": [
       "                               order_id                       customer_id  \\\n",
       "62360  54282e97f61c23b78330c15b154c867d  4b7decb9b58e2569548b8b4c8e20e8d7   \n",
       "22575  6ca46f2b9a1592929647682510800e0e  13bf775a749925a15ef7cc1985b564f1   \n",
       "24944  99b3fb1a943fa5d4af2a3386f00fdd19  aa03e52d50af7237a5963ffb09dd8872   \n",
       "72213  2a06568281fa1a485b9ba5fac48c7df2  317b6bd739f5504c8cdb3979cdca9328   \n",
       "29651  f73b31435ce6dec43df056154c39a1ce  f0f671d4034e98cdf20f0c452d6db02b   \n",
       "...                                 ...                               ...   \n",
       "32817  a6475bb7a50387e3c665534e15bd40ac  442d66f0d96f656096dd70f1b0391e40   \n",
       "18535  5cb8558cbb7c0c2f00f43468579d3e3c  2ff5a6455514da421bd25d6e4ceb1d12   \n",
       "24222  711b9be9c346d9ecdb9d38a5e1e7e39b  81e4aed5ab4253757305267b80712689   \n",
       "78824  dd359d3c294458c6d642b2eea9212bf5  5c58d1ea5a893380ecdd96dd6dfd5ec5   \n",
       "4541   2e7a8482f6fb09756ca50c10d7bfc047  08c5351a6aca1c1589a38f244edeee9d   \n",
       "\n",
       "      order_status order_purchase_timestamp   order_approved_at  \\\n",
       "62360      shipped      2018-09-03 09:06:57 2018-09-03 17:40:06   \n",
       "22575      shipped      2018-08-24 17:02:19 2018-08-24 17:15:10   \n",
       "24944      shipped      2018-08-22 09:01:17 2018-08-22 09:10:17   \n",
       "72213      shipped      2018-08-21 11:00:37 2018-08-21 11:10:17   \n",
       "29651      shipped      2018-08-20 12:37:54 2018-08-20 15:35:42   \n",
       "...            ...                      ...                 ...   \n",
       "32817     invoiced      2016-10-04 16:28:25 2016-10-05 02:46:17   \n",
       "18535      shipped      2016-10-04 15:02:37 2016-10-05 03:10:59   \n",
       "24222     invoiced      2016-10-04 13:38:37 2016-10-04 14:08:38   \n",
       "78824     invoiced      2016-10-04 13:02:10 2016-10-05 03:08:27   \n",
       "4541       shipped      2016-09-04 21:15:19 2016-10-07 13:18:03   \n",
       "\n",
       "      order_delivered_carrier_date order_delivered_customer_date  \\\n",
       "62360          2018-09-04 15:25:00                           NaT   \n",
       "22575          2018-08-27 15:15:00                           NaT   \n",
       "24944          2018-08-23 14:09:00                           NaT   \n",
       "72213          2018-08-21 17:04:00                           NaT   \n",
       "29651          2018-08-24 16:48:00                           NaT   \n",
       "...                            ...                           ...   \n",
       "32817                          NaT                           NaT   \n",
       "18535          2016-10-15 10:14:10                           NaT   \n",
       "24222                          NaT                           NaT   \n",
       "78824                          NaT                           NaT   \n",
       "4541           2016-10-18 13:14:51                           NaT   \n",
       "\n",
       "      order_estimated_delivery_date razn        dost_check  \n",
       "62360                    2018-09-06  NaT  44 days 08:33:03  \n",
       "22575                    2018-08-29  NaT  54 days 00:37:41  \n",
       "24944                    2018-08-30  NaT  56 days 08:38:43  \n",
       "72213                    2018-08-24  NaT  57 days 06:39:23  \n",
       "29651                    2018-08-27  NaT  58 days 05:02:06  \n",
       "...                             ...  ...               ...  \n",
       "32817                    2016-11-28  NaT 743 days 01:11:35  \n",
       "18535                    2016-12-02  NaT 743 days 02:37:23  \n",
       "24222                    2016-11-24  NaT 743 days 04:01:23  \n",
       "78824                    2016-11-24  NaT 743 days 04:37:50  \n",
       "4541                     2016-10-20  NaT 772 days 20:24:41  \n",
       "\n",
       "[1729 rows x 10 columns]"
      ]
     },
     "execution_count": 29,
     "metadata": {},
     "output_type": "execute_result"
    }
   ],
   "source": [
    "orders.query('order_status!=\"canceled\" & order_status!= \"unavailable\" & order_status!= \"delivered\"').sort_values('dost_check')\n",
    "# К примеру у нас есть заказ, который находится на статусе shipped уже более 2 лет"
   ]
  },
  {
   "cell_type": "code",
   "execution_count": 30,
   "metadata": {},
   "outputs": [],
   "source": [
    "orders['uslovie_dost']=np.where( \n",
    "     (orders['order_status'].isin(['canceled','unavailable'])) | \n",
    "     (orders['dost_check']<=orders['razn'].quantile(0.999)), \n",
    "     True,False)"
   ]
  },
  {
   "cell_type": "markdown",
   "metadata": {},
   "source": [
    "Условие задали в столбце условие дост, теперь соответственно берем заказы со статусами canceled и unavailable, либо в других статусах кроме Доставлен которые превышают 99.9 процентиль нашего времени доставки для доставленных заказов"
   ]
  },
  {
   "cell_type": "code",
   "execution_count": 31,
   "metadata": {},
   "outputs": [
    {
     "data": {
      "text/plain": [
       "delivered      7602\n",
       "canceled        625\n",
       "unavailable     609\n",
       "shipped          59\n",
       "invoiced         26\n",
       "Name: order_status, dtype: int64"
      ]
     },
     "execution_count": 31,
     "metadata": {},
     "output_type": "execute_result"
    }
   ],
   "source": [
    "orders.query('uslovie_dost==True').order_status.value_counts()"
   ]
  },
  {
   "cell_type": "markdown",
   "metadata": {},
   "source": [
    "Итого у нас такие данные по заказам недоставленным и причинам(статусам на которых они остановились) Дополнительно помним что среди отмененных у нас есть 6 заказов, которые мы доставили но в последствии они были отменены"
   ]
  },
  {
   "cell_type": "markdown",
   "metadata": {},
   "source": [
    "# 3. По каждому товару определить, в какой день недели товар чаще всего покупается. (7 баллов)"
   ]
  },
  {
   "cell_type": "markdown",
   "metadata": {},
   "source": [
    "Будем учитывать только заказы в статусе доставлен так как смотрим только покупки. Обьяснение было выше"
   ]
  },
  {
   "cell_type": "code",
   "execution_count": 32,
   "metadata": {},
   "outputs": [],
   "source": [
    "# Добавляем столбец с днем недели для даты создания заказа\n",
    "orders['weekday']=orders.order_purchase_timestamp.dt.day_name()"
   ]
  },
  {
   "cell_type": "code",
   "execution_count": 33,
   "metadata": {},
   "outputs": [],
   "source": [
    "for_weekday=orders.merge(order_items,how='left',on='order_id')"
   ]
  },
  {
   "cell_type": "code",
   "execution_count": 34,
   "metadata": {},
   "outputs": [],
   "source": [
    "# Делаем табличку, где будем отображать кол-во заказов на item по дням\n",
    "item_day_order=for_weekday.query('order_status==\"delivered\"').groupby(['product_id','weekday'],as_index=False).agg({'order_id':'count'})"
   ]
  },
  {
   "cell_type": "code",
   "execution_count": 35,
   "metadata": {},
   "outputs": [],
   "source": [
    "# Создаем табличку, где узнаем максимальное количество покупок для товара среди дней недели\n",
    "max_for_item=item_day_order.groupby('product_id',as_index=False).agg({'order_id':'max'})"
   ]
  },
  {
   "cell_type": "code",
   "execution_count": 36,
   "metadata": {},
   "outputs": [],
   "source": [
    "max_for_item.columns=['product_id','max_count']"
   ]
  },
  {
   "cell_type": "code",
   "execution_count": 37,
   "metadata": {},
   "outputs": [],
   "source": [
    "# Соберем в одну таблицу\n",
    "popular_day_item=item_day_order.merge(max_for_item,how='left',on='product_id')\n",
    "popular_day_item.columns=['product_id','weekday','count_order','max_count']"
   ]
  },
  {
   "cell_type": "code",
   "execution_count": 38,
   "metadata": {},
   "outputs": [
    {
     "data": {
      "text/html": [
       "<div>\n",
       "<style scoped>\n",
       "    .dataframe tbody tr th:only-of-type {\n",
       "        vertical-align: middle;\n",
       "    }\n",
       "\n",
       "    .dataframe tbody tr th {\n",
       "        vertical-align: top;\n",
       "    }\n",
       "\n",
       "    .dataframe thead th {\n",
       "        text-align: right;\n",
       "    }\n",
       "</style>\n",
       "<table border=\"1\" class=\"dataframe\">\n",
       "  <thead>\n",
       "    <tr style=\"text-align: right;\">\n",
       "      <th></th>\n",
       "      <th>product_id</th>\n",
       "      <th>weekday</th>\n",
       "      <th>count_order</th>\n",
       "      <th>max_count</th>\n",
       "    </tr>\n",
       "  </thead>\n",
       "  <tbody>\n",
       "    <tr>\n",
       "      <th>15597</th>\n",
       "      <td>422879e10f46682990de24d770e7f83d</td>\n",
       "      <td>Wednesday</td>\n",
       "      <td>93</td>\n",
       "      <td>93</td>\n",
       "    </tr>\n",
       "    <tr>\n",
       "      <th>35751</th>\n",
       "      <td>99a4788cb24856965c36a24e339b6058</td>\n",
       "      <td>Monday</td>\n",
       "      <td>91</td>\n",
       "      <td>91</td>\n",
       "    </tr>\n",
       "    <tr>\n",
       "      <th>40183</th>\n",
       "      <td>aca2eb7d00ea1a7b8ebd4e68314663af</td>\n",
       "      <td>Thursday</td>\n",
       "      <td>89</td>\n",
       "      <td>89</td>\n",
       "    </tr>\n",
       "    <tr>\n",
       "      <th>19711</th>\n",
       "      <td>53b36df67ebb7c41585e8d54d6772e08</td>\n",
       "      <td>Tuesday</td>\n",
       "      <td>76</td>\n",
       "      <td>76</td>\n",
       "    </tr>\n",
       "    <tr>\n",
       "      <th>13271</th>\n",
       "      <td>389d119b48cf3043d311335e499d9c6b</td>\n",
       "      <td>Thursday</td>\n",
       "      <td>67</td>\n",
       "      <td>67</td>\n",
       "    </tr>\n",
       "    <tr>\n",
       "      <th>...</th>\n",
       "      <td>...</td>\n",
       "      <td>...</td>\n",
       "      <td>...</td>\n",
       "      <td>...</td>\n",
       "    </tr>\n",
       "    <tr>\n",
       "      <th>23011</th>\n",
       "      <td>620f37abb44d006ced91c81d81db0412</td>\n",
       "      <td>Monday</td>\n",
       "      <td>1</td>\n",
       "      <td>1</td>\n",
       "    </tr>\n",
       "    <tr>\n",
       "      <th>23010</th>\n",
       "      <td>620f37abb44d006ced91c81d81db0412</td>\n",
       "      <td>Friday</td>\n",
       "      <td>1</td>\n",
       "      <td>1</td>\n",
       "    </tr>\n",
       "    <tr>\n",
       "      <th>23009</th>\n",
       "      <td>620ea491128bf83c51950ac006de001d</td>\n",
       "      <td>Tuesday</td>\n",
       "      <td>1</td>\n",
       "      <td>1</td>\n",
       "    </tr>\n",
       "    <tr>\n",
       "      <th>23008</th>\n",
       "      <td>620b45f968a49556658d15ef8560a30d</td>\n",
       "      <td>Tuesday</td>\n",
       "      <td>1</td>\n",
       "      <td>1</td>\n",
       "    </tr>\n",
       "    <tr>\n",
       "      <th>59952</th>\n",
       "      <td>fffe9eeff12fcbd74a2f2b007dde0c58</td>\n",
       "      <td>Wednesday</td>\n",
       "      <td>1</td>\n",
       "      <td>1</td>\n",
       "    </tr>\n",
       "  </tbody>\n",
       "</table>\n",
       "<p>41775 rows × 4 columns</p>\n",
       "</div>"
      ],
      "text/plain": [
       "                             product_id    weekday  count_order  max_count\n",
       "15597  422879e10f46682990de24d770e7f83d  Wednesday           93         93\n",
       "35751  99a4788cb24856965c36a24e339b6058     Monday           91         91\n",
       "40183  aca2eb7d00ea1a7b8ebd4e68314663af   Thursday           89         89\n",
       "19711  53b36df67ebb7c41585e8d54d6772e08    Tuesday           76         76\n",
       "13271  389d119b48cf3043d311335e499d9c6b   Thursday           67         67\n",
       "...                                 ...        ...          ...        ...\n",
       "23011  620f37abb44d006ced91c81d81db0412     Monday            1          1\n",
       "23010  620f37abb44d006ced91c81d81db0412     Friday            1          1\n",
       "23009  620ea491128bf83c51950ac006de001d    Tuesday            1          1\n",
       "23008  620b45f968a49556658d15ef8560a30d    Tuesday            1          1\n",
       "59952  fffe9eeff12fcbd74a2f2b007dde0c58  Wednesday            1          1\n",
       "\n",
       "[41775 rows x 4 columns]"
      ]
     },
     "execution_count": 38,
     "metadata": {},
     "output_type": "execute_result"
    }
   ],
   "source": [
    "# У нас есть товар, день недели, в каком количестве заказов был данный товар в эти дни и максимальное значение среди всех дней недели \n",
    "popular_day_item.query('max_count==count_order').sort_values('count_order',ascending=False)"
   ]
  },
  {
   "cell_type": "markdown",
   "metadata": {},
   "source": [
    "Закрепляя, мы получили для каждого товара популярные дни покупки. У какого-то из товаров их может быть несколько, у другого же это может быть всего один день среди недели"
   ]
  },
  {
   "cell_type": "markdown",
   "metadata": {},
   "source": [
    "## 4. Сколько у каждого из пользователей в среднем покупок в неделю (по месяцам)? Не стоит забывать, что внутри месяца может быть не целое количество недель. Например, в ноябре 2021 года 4,28 недели. И внутри метрики это нужно учесть. (8 баллов) \n"
   ]
  },
  {
   "cell_type": "code",
   "execution_count": 39,
   "metadata": {},
   "outputs": [],
   "source": [
    "# Определяем сколько дней в месяце по столбцу с датой создания заказа\n",
    "orders['days_in_month']=orders['order_purchase_timestamp'].dt.days_in_month"
   ]
  },
  {
   "cell_type": "code",
   "execution_count": 40,
   "metadata": {},
   "outputs": [],
   "source": [
    "# Считаем сколько у нас недель в месяце для каждого из месяцев\n",
    "orders['week_in_month']=orders['days_in_month']/7"
   ]
  },
  {
   "cell_type": "code",
   "execution_count": 41,
   "metadata": {},
   "outputs": [],
   "source": [
    "# Проводим Join данных заказов и клиентов, чтобы вывести статистику по клиентам \n",
    "for_week_month_user=orders.merge(customers,how='left',on='customer_id')"
   ]
  },
  {
   "cell_type": "code",
   "execution_count": 42,
   "metadata": {},
   "outputs": [],
   "source": [
    "# Создаем два столбца с годом и месяцем\n",
    "for_week_month_user['year'] = for_week_month_user['order_purchase_timestamp'].dt.year\n",
    "for_week_month_user['month']= for_week_month_user['order_purchase_timestamp'].dt.month"
   ]
  },
  {
   "cell_type": "code",
   "execution_count": 43,
   "metadata": {},
   "outputs": [],
   "source": [
    "# Расчёт для каждого клиента по месяцу и году кол-во заказов\n",
    "week_month_user=for_week_month_user.query('order_status==\"delivered\"')\\\n",
    ".groupby(['customer_unique_id','year','month','days_in_month','week_in_month'],as_index=False)\\\n",
    ".agg({'order_id':'nunique'})"
   ]
  },
  {
   "cell_type": "code",
   "execution_count": 44,
   "metadata": {},
   "outputs": [],
   "source": [
    "# Переименую столбец корректно\n",
    "week_month_user.columns=week_month_user.columns.str.replace('order_id','count_order')"
   ]
  },
  {
   "cell_type": "code",
   "execution_count": 45,
   "metadata": {},
   "outputs": [],
   "source": [
    "# Создаем столбец с метрикой\n",
    "week_month_user['avg_per_month_week']=week_month_user['count_order']/week_month_user['week_in_month']"
   ]
  },
  {
   "cell_type": "code",
   "execution_count": 46,
   "metadata": {},
   "outputs": [
    {
     "data": {
      "text/html": [
       "<div>\n",
       "<style scoped>\n",
       "    .dataframe tbody tr th:only-of-type {\n",
       "        vertical-align: middle;\n",
       "    }\n",
       "\n",
       "    .dataframe tbody tr th {\n",
       "        vertical-align: top;\n",
       "    }\n",
       "\n",
       "    .dataframe thead th {\n",
       "        text-align: right;\n",
       "    }\n",
       "</style>\n",
       "<table border=\"1\" class=\"dataframe\">\n",
       "  <thead>\n",
       "    <tr style=\"text-align: right;\">\n",
       "      <th></th>\n",
       "      <th>customer_unique_id</th>\n",
       "      <th>year</th>\n",
       "      <th>month</th>\n",
       "      <th>days_in_month</th>\n",
       "      <th>week_in_month</th>\n",
       "      <th>count_order</th>\n",
       "      <th>avg_per_month_week</th>\n",
       "    </tr>\n",
       "  </thead>\n",
       "  <tbody>\n",
       "    <tr>\n",
       "      <th>0</th>\n",
       "      <td>0000366f3b9a7992bf8c76cfdf3221e2</td>\n",
       "      <td>2018</td>\n",
       "      <td>5</td>\n",
       "      <td>31</td>\n",
       "      <td>4.428571</td>\n",
       "      <td>1</td>\n",
       "      <td>0.225806</td>\n",
       "    </tr>\n",
       "    <tr>\n",
       "      <th>1</th>\n",
       "      <td>0000b849f77a49e4a4ce2b2a4ca5be3f</td>\n",
       "      <td>2018</td>\n",
       "      <td>5</td>\n",
       "      <td>31</td>\n",
       "      <td>4.428571</td>\n",
       "      <td>1</td>\n",
       "      <td>0.225806</td>\n",
       "    </tr>\n",
       "    <tr>\n",
       "      <th>2</th>\n",
       "      <td>0000f46a3911fa3c0805444483337064</td>\n",
       "      <td>2017</td>\n",
       "      <td>3</td>\n",
       "      <td>31</td>\n",
       "      <td>4.428571</td>\n",
       "      <td>1</td>\n",
       "      <td>0.225806</td>\n",
       "    </tr>\n",
       "    <tr>\n",
       "      <th>3</th>\n",
       "      <td>0000f6ccb0745a6a4b88665a16c9f078</td>\n",
       "      <td>2017</td>\n",
       "      <td>10</td>\n",
       "      <td>31</td>\n",
       "      <td>4.428571</td>\n",
       "      <td>1</td>\n",
       "      <td>0.225806</td>\n",
       "    </tr>\n",
       "    <tr>\n",
       "      <th>4</th>\n",
       "      <td>0004aac84e0df4da2b147fca70cf8255</td>\n",
       "      <td>2017</td>\n",
       "      <td>11</td>\n",
       "      <td>30</td>\n",
       "      <td>4.285714</td>\n",
       "      <td>1</td>\n",
       "      <td>0.233333</td>\n",
       "    </tr>\n",
       "    <tr>\n",
       "      <th>...</th>\n",
       "      <td>...</td>\n",
       "      <td>...</td>\n",
       "      <td>...</td>\n",
       "      <td>...</td>\n",
       "      <td>...</td>\n",
       "      <td>...</td>\n",
       "      <td>...</td>\n",
       "    </tr>\n",
       "    <tr>\n",
       "      <th>95189</th>\n",
       "      <td>fffcf5a5ff07b0908bd4e2dbc735a684</td>\n",
       "      <td>2017</td>\n",
       "      <td>6</td>\n",
       "      <td>30</td>\n",
       "      <td>4.285714</td>\n",
       "      <td>1</td>\n",
       "      <td>0.233333</td>\n",
       "    </tr>\n",
       "    <tr>\n",
       "      <th>95190</th>\n",
       "      <td>fffea47cd6d3cc0a88bd621562a9d061</td>\n",
       "      <td>2017</td>\n",
       "      <td>12</td>\n",
       "      <td>31</td>\n",
       "      <td>4.428571</td>\n",
       "      <td>1</td>\n",
       "      <td>0.225806</td>\n",
       "    </tr>\n",
       "    <tr>\n",
       "      <th>95191</th>\n",
       "      <td>ffff371b4d645b6ecea244b27531430a</td>\n",
       "      <td>2017</td>\n",
       "      <td>2</td>\n",
       "      <td>28</td>\n",
       "      <td>4.000000</td>\n",
       "      <td>1</td>\n",
       "      <td>0.250000</td>\n",
       "    </tr>\n",
       "    <tr>\n",
       "      <th>95192</th>\n",
       "      <td>ffff5962728ec6157033ef9805bacc48</td>\n",
       "      <td>2018</td>\n",
       "      <td>5</td>\n",
       "      <td>31</td>\n",
       "      <td>4.428571</td>\n",
       "      <td>1</td>\n",
       "      <td>0.225806</td>\n",
       "    </tr>\n",
       "    <tr>\n",
       "      <th>95193</th>\n",
       "      <td>ffffd2657e2aad2907e67c3e9daecbeb</td>\n",
       "      <td>2017</td>\n",
       "      <td>5</td>\n",
       "      <td>31</td>\n",
       "      <td>4.428571</td>\n",
       "      <td>1</td>\n",
       "      <td>0.225806</td>\n",
       "    </tr>\n",
       "  </tbody>\n",
       "</table>\n",
       "<p>95194 rows × 7 columns</p>\n",
       "</div>"
      ],
      "text/plain": [
       "                     customer_unique_id  year  month  days_in_month  \\\n",
       "0      0000366f3b9a7992bf8c76cfdf3221e2  2018      5             31   \n",
       "1      0000b849f77a49e4a4ce2b2a4ca5be3f  2018      5             31   \n",
       "2      0000f46a3911fa3c0805444483337064  2017      3             31   \n",
       "3      0000f6ccb0745a6a4b88665a16c9f078  2017     10             31   \n",
       "4      0004aac84e0df4da2b147fca70cf8255  2017     11             30   \n",
       "...                                 ...   ...    ...            ...   \n",
       "95189  fffcf5a5ff07b0908bd4e2dbc735a684  2017      6             30   \n",
       "95190  fffea47cd6d3cc0a88bd621562a9d061  2017     12             31   \n",
       "95191  ffff371b4d645b6ecea244b27531430a  2017      2             28   \n",
       "95192  ffff5962728ec6157033ef9805bacc48  2018      5             31   \n",
       "95193  ffffd2657e2aad2907e67c3e9daecbeb  2017      5             31   \n",
       "\n",
       "       week_in_month  count_order  avg_per_month_week  \n",
       "0           4.428571            1            0.225806  \n",
       "1           4.428571            1            0.225806  \n",
       "2           4.428571            1            0.225806  \n",
       "3           4.428571            1            0.225806  \n",
       "4           4.285714            1            0.233333  \n",
       "...              ...          ...                 ...  \n",
       "95189       4.285714            1            0.233333  \n",
       "95190       4.428571            1            0.225806  \n",
       "95191       4.000000            1            0.250000  \n",
       "95192       4.428571            1            0.225806  \n",
       "95193       4.428571            1            0.225806  \n",
       "\n",
       "[95194 rows x 7 columns]"
      ]
     },
     "execution_count": 46,
     "metadata": {},
     "output_type": "execute_result"
    }
   ],
   "source": [
    "week_month_user"
   ]
  },
  {
   "cell_type": "markdown",
   "metadata": {},
   "source": [
    "Итого:\n",
    "\n",
    "Для каждой даты создания заказа, посчитал кол-во дней и недель в месяце. Берем как и ранее только доставленные заказы\n",
    "Сгруппировал данные по клиенту, году, месяцу. Отобразив сколько дней в этом месяце и недель. Разделил Кол-во заказов в текущем месяце на Количество недель в месяце. \n",
    "\n",
    "Получив все данные создал столбец с метрикой avg_per_month_week для каждого клиента"
   ]
  },
  {
   "cell_type": "markdown",
   "metadata": {},
   "source": [
    "## 5. Используя pandas, проведи когортный анализ пользователей. В период с января по декабрь выяви когорту с самым высоким retention на 3й месяц. Описание подхода можно найти тут. (15 баллов)"
   ]
  },
  {
   "cell_type": "code",
   "execution_count": 47,
   "metadata": {},
   "outputs": [],
   "source": [
    "#Объединяю данные заказов и клиентов\n",
    "for_cohort=customers.merge(orders,how='left',on='customer_id')"
   ]
  },
  {
   "cell_type": "code",
   "execution_count": 48,
   "metadata": {},
   "outputs": [],
   "source": [
    "# Создаю столбец с датой в формате Год-Месяц. Для группировки по когортам\n",
    "for_cohort['m_date']=for_cohort['order_purchase_timestamp'].dt.to_period('M')"
   ]
  },
  {
   "cell_type": "code",
   "execution_count": 49,
   "metadata": {},
   "outputs": [],
   "source": [
    "#Определяю для каждого клиента минимальный месяц покупки(Заказ со статусом delivered), что бы отнести к когорте\n",
    "cohort_user=for_cohort.query('order_status==\"delivered\"').groupby('customer_unique_id',as_index=False).agg({'m_date':'min'})"
   ]
  },
  {
   "cell_type": "code",
   "execution_count": 50,
   "metadata": {},
   "outputs": [],
   "source": [
    "# Переименовываю столбцы\n",
    "cohort_user.columns=['customer_unique_id','cohort_m']"
   ]
  },
  {
   "cell_type": "code",
   "execution_count": 51,
   "metadata": {},
   "outputs": [],
   "source": [
    "# Данные объединяю для для того что бы каждому клиенту присвоить когорту\n",
    "for_cohort_2=for_cohort.merge(cohort_user,how='left',on='customer_unique_id')"
   ]
  },
  {
   "cell_type": "code",
   "execution_count": 52,
   "metadata": {},
   "outputs": [],
   "source": [
    "# Оставляю только доставленные заказы\n",
    "for_cohort_2=for_cohort_2.query('order_status==\"delivered\"')\\\n",
    ".groupby(['m_date','cohort_m'],as_index=False)\\\n",
    ".agg({'customer_unique_id':'nunique'})"
   ]
  },
  {
   "cell_type": "code",
   "execution_count": 53,
   "metadata": {},
   "outputs": [],
   "source": [
    "# Максимальное количество будет являться в целом объемом нашей когорты. Можно высчитать и в cohort_user\n",
    "count_of_cohort=for_cohort_2.groupby(['cohort_m'],as_index=False).agg({'customer_unique_id':'max'})\n",
    "count_of_cohort.columns=['cohort_m','count_cohort']"
   ]
  },
  {
   "cell_type": "code",
   "execution_count": 54,
   "metadata": {},
   "outputs": [],
   "source": [
    "# Подтягиваю к тотальным значениям\n",
    "total_cohort=for_cohort_2.merge(count_of_cohort,how='left',on='cohort_m')"
   ]
  },
  {
   "cell_type": "code",
   "execution_count": 55,
   "metadata": {},
   "outputs": [],
   "source": [
    "# Расчёт Retention Rate на основании формулы Кол-во клиентов для текущего месяца / количество в 0 месяц\n",
    "total_cohort['retention']=total_cohort['customer_unique_id']/total_cohort['count_cohort']"
   ]
  },
  {
   "cell_type": "code",
   "execution_count": 56,
   "metadata": {},
   "outputs": [
    {
     "data": {
      "text/html": [
       "<div>\n",
       "<style scoped>\n",
       "    .dataframe tbody tr th:only-of-type {\n",
       "        vertical-align: middle;\n",
       "    }\n",
       "\n",
       "    .dataframe tbody tr th {\n",
       "        vertical-align: top;\n",
       "    }\n",
       "\n",
       "    .dataframe thead th {\n",
       "        text-align: right;\n",
       "    }\n",
       "</style>\n",
       "<table border=\"1\" class=\"dataframe\">\n",
       "  <thead>\n",
       "    <tr style=\"text-align: right;\">\n",
       "      <th></th>\n",
       "      <th>m_date</th>\n",
       "      <th>cohort_m</th>\n",
       "      <th>customer_unique_id</th>\n",
       "      <th>count_cohort</th>\n",
       "      <th>retention</th>\n",
       "    </tr>\n",
       "  </thead>\n",
       "  <tbody>\n",
       "    <tr>\n",
       "      <th>0</th>\n",
       "      <td>2016-09</td>\n",
       "      <td>2016-09</td>\n",
       "      <td>1</td>\n",
       "      <td>1</td>\n",
       "      <td>1.000000</td>\n",
       "    </tr>\n",
       "    <tr>\n",
       "      <th>1</th>\n",
       "      <td>2016-10</td>\n",
       "      <td>2016-10</td>\n",
       "      <td>262</td>\n",
       "      <td>262</td>\n",
       "      <td>1.000000</td>\n",
       "    </tr>\n",
       "    <tr>\n",
       "      <th>2</th>\n",
       "      <td>2016-12</td>\n",
       "      <td>2016-12</td>\n",
       "      <td>1</td>\n",
       "      <td>1</td>\n",
       "      <td>1.000000</td>\n",
       "    </tr>\n",
       "    <tr>\n",
       "      <th>3</th>\n",
       "      <td>2017-01</td>\n",
       "      <td>2016-12</td>\n",
       "      <td>1</td>\n",
       "      <td>1</td>\n",
       "      <td>1.000000</td>\n",
       "    </tr>\n",
       "    <tr>\n",
       "      <th>4</th>\n",
       "      <td>2017-01</td>\n",
       "      <td>2017-01</td>\n",
       "      <td>717</td>\n",
       "      <td>717</td>\n",
       "      <td>1.000000</td>\n",
       "    </tr>\n",
       "    <tr>\n",
       "      <th>...</th>\n",
       "      <td>...</td>\n",
       "      <td>...</td>\n",
       "      <td>...</td>\n",
       "      <td>...</td>\n",
       "      <td>...</td>\n",
       "    </tr>\n",
       "    <tr>\n",
       "      <th>214</th>\n",
       "      <td>2018-08</td>\n",
       "      <td>2018-04</td>\n",
       "      <td>9</td>\n",
       "      <td>6582</td>\n",
       "      <td>0.001367</td>\n",
       "    </tr>\n",
       "    <tr>\n",
       "      <th>215</th>\n",
       "      <td>2018-08</td>\n",
       "      <td>2018-05</td>\n",
       "      <td>12</td>\n",
       "      <td>6506</td>\n",
       "      <td>0.001844</td>\n",
       "    </tr>\n",
       "    <tr>\n",
       "      <th>216</th>\n",
       "      <td>2018-08</td>\n",
       "      <td>2018-06</td>\n",
       "      <td>16</td>\n",
       "      <td>5878</td>\n",
       "      <td>0.002722</td>\n",
       "    </tr>\n",
       "    <tr>\n",
       "      <th>217</th>\n",
       "      <td>2018-08</td>\n",
       "      <td>2018-07</td>\n",
       "      <td>31</td>\n",
       "      <td>5949</td>\n",
       "      <td>0.005211</td>\n",
       "    </tr>\n",
       "    <tr>\n",
       "      <th>218</th>\n",
       "      <td>2018-08</td>\n",
       "      <td>2018-08</td>\n",
       "      <td>6144</td>\n",
       "      <td>6144</td>\n",
       "      <td>1.000000</td>\n",
       "    </tr>\n",
       "  </tbody>\n",
       "</table>\n",
       "<p>219 rows × 5 columns</p>\n",
       "</div>"
      ],
      "text/plain": [
       "      m_date cohort_m  customer_unique_id  count_cohort  retention\n",
       "0    2016-09  2016-09                   1             1   1.000000\n",
       "1    2016-10  2016-10                 262           262   1.000000\n",
       "2    2016-12  2016-12                   1             1   1.000000\n",
       "3    2017-01  2016-12                   1             1   1.000000\n",
       "4    2017-01  2017-01                 717           717   1.000000\n",
       "..       ...      ...                 ...           ...        ...\n",
       "214  2018-08  2018-04                   9          6582   0.001367\n",
       "215  2018-08  2018-05                  12          6506   0.001844\n",
       "216  2018-08  2018-06                  16          5878   0.002722\n",
       "217  2018-08  2018-07                  31          5949   0.005211\n",
       "218  2018-08  2018-08                6144          6144   1.000000\n",
       "\n",
       "[219 rows x 5 columns]"
      ]
     },
     "execution_count": 56,
     "metadata": {},
     "output_type": "execute_result"
    }
   ],
   "source": [
    "total_cohort"
   ]
  },
  {
   "cell_type": "code",
   "execution_count": 57,
   "metadata": {},
   "outputs": [
    {
     "data": {
      "text/html": [
       "<div>\n",
       "<style scoped>\n",
       "    .dataframe tbody tr th:only-of-type {\n",
       "        vertical-align: middle;\n",
       "    }\n",
       "\n",
       "    .dataframe tbody tr th {\n",
       "        vertical-align: top;\n",
       "    }\n",
       "\n",
       "    .dataframe thead th {\n",
       "        text-align: right;\n",
       "    }\n",
       "</style>\n",
       "<table border=\"1\" class=\"dataframe\">\n",
       "  <thead>\n",
       "    <tr style=\"text-align: right;\">\n",
       "      <th></th>\n",
       "      <th>m_date</th>\n",
       "      <th>cohort_m</th>\n",
       "      <th>customer_unique_id</th>\n",
       "      <th>count_cohort</th>\n",
       "      <th>retention</th>\n",
       "      <th>rank</th>\n",
       "    </tr>\n",
       "  </thead>\n",
       "  <tbody>\n",
       "    <tr>\n",
       "      <th>0</th>\n",
       "      <td>2016-09</td>\n",
       "      <td>2016-09</td>\n",
       "      <td>1</td>\n",
       "      <td>1</td>\n",
       "      <td>1.000000</td>\n",
       "      <td>0</td>\n",
       "    </tr>\n",
       "    <tr>\n",
       "      <th>1</th>\n",
       "      <td>2016-10</td>\n",
       "      <td>2016-10</td>\n",
       "      <td>262</td>\n",
       "      <td>262</td>\n",
       "      <td>1.000000</td>\n",
       "      <td>0</td>\n",
       "    </tr>\n",
       "    <tr>\n",
       "      <th>2</th>\n",
       "      <td>2016-12</td>\n",
       "      <td>2016-12</td>\n",
       "      <td>1</td>\n",
       "      <td>1</td>\n",
       "      <td>1.000000</td>\n",
       "      <td>0</td>\n",
       "    </tr>\n",
       "    <tr>\n",
       "      <th>3</th>\n",
       "      <td>2017-01</td>\n",
       "      <td>2016-12</td>\n",
       "      <td>1</td>\n",
       "      <td>1</td>\n",
       "      <td>1.000000</td>\n",
       "      <td>1</td>\n",
       "    </tr>\n",
       "    <tr>\n",
       "      <th>4</th>\n",
       "      <td>2017-01</td>\n",
       "      <td>2017-01</td>\n",
       "      <td>717</td>\n",
       "      <td>717</td>\n",
       "      <td>1.000000</td>\n",
       "      <td>0</td>\n",
       "    </tr>\n",
       "    <tr>\n",
       "      <th>...</th>\n",
       "      <td>...</td>\n",
       "      <td>...</td>\n",
       "      <td>...</td>\n",
       "      <td>...</td>\n",
       "      <td>...</td>\n",
       "      <td>...</td>\n",
       "    </tr>\n",
       "    <tr>\n",
       "      <th>214</th>\n",
       "      <td>2018-08</td>\n",
       "      <td>2018-04</td>\n",
       "      <td>9</td>\n",
       "      <td>6582</td>\n",
       "      <td>0.001367</td>\n",
       "      <td>4</td>\n",
       "    </tr>\n",
       "    <tr>\n",
       "      <th>215</th>\n",
       "      <td>2018-08</td>\n",
       "      <td>2018-05</td>\n",
       "      <td>12</td>\n",
       "      <td>6506</td>\n",
       "      <td>0.001844</td>\n",
       "      <td>3</td>\n",
       "    </tr>\n",
       "    <tr>\n",
       "      <th>216</th>\n",
       "      <td>2018-08</td>\n",
       "      <td>2018-06</td>\n",
       "      <td>16</td>\n",
       "      <td>5878</td>\n",
       "      <td>0.002722</td>\n",
       "      <td>2</td>\n",
       "    </tr>\n",
       "    <tr>\n",
       "      <th>217</th>\n",
       "      <td>2018-08</td>\n",
       "      <td>2018-07</td>\n",
       "      <td>31</td>\n",
       "      <td>5949</td>\n",
       "      <td>0.005211</td>\n",
       "      <td>1</td>\n",
       "    </tr>\n",
       "    <tr>\n",
       "      <th>218</th>\n",
       "      <td>2018-08</td>\n",
       "      <td>2018-08</td>\n",
       "      <td>6144</td>\n",
       "      <td>6144</td>\n",
       "      <td>1.000000</td>\n",
       "      <td>0</td>\n",
       "    </tr>\n",
       "  </tbody>\n",
       "</table>\n",
       "<p>219 rows × 6 columns</p>\n",
       "</div>"
      ],
      "text/plain": [
       "      m_date cohort_m  customer_unique_id  count_cohort  retention  rank\n",
       "0    2016-09  2016-09                   1             1   1.000000     0\n",
       "1    2016-10  2016-10                 262           262   1.000000     0\n",
       "2    2016-12  2016-12                   1             1   1.000000     0\n",
       "3    2017-01  2016-12                   1             1   1.000000     1\n",
       "4    2017-01  2017-01                 717           717   1.000000     0\n",
       "..       ...      ...                 ...           ...        ...   ...\n",
       "214  2018-08  2018-04                   9          6582   0.001367     4\n",
       "215  2018-08  2018-05                  12          6506   0.001844     3\n",
       "216  2018-08  2018-06                  16          5878   0.002722     2\n",
       "217  2018-08  2018-07                  31          5949   0.005211     1\n",
       "218  2018-08  2018-08                6144          6144   1.000000     0\n",
       "\n",
       "[219 rows x 6 columns]"
      ]
     },
     "execution_count": 57,
     "metadata": {},
     "output_type": "execute_result"
    }
   ],
   "source": [
    "# Ранжирую месяца для каждой когорты\n",
    "total_cohort['rank'] = total_cohort.sort_values(['cohort_m','m_date']).groupby('cohort_m').cumcount()\n",
    "total_cohort"
   ]
  },
  {
   "cell_type": "code",
   "execution_count": 58,
   "metadata": {},
   "outputs": [],
   "source": [
    "pivot_table= total_cohort.query(\"cohort_m>='2017-01' & cohort_m<='2017-12' & rank!=0 \")\\\n",
    ".pivot(index='cohort_m',columns='rank',values='retention')\n",
    "# Фильтрую по условию период с января по декабрь"
   ]
  },
  {
   "cell_type": "code",
   "execution_count": 59,
   "metadata": {},
   "outputs": [
    {
     "data": {
      "text/html": [
       "<div>\n",
       "<style scoped>\n",
       "    .dataframe tbody tr th:only-of-type {\n",
       "        vertical-align: middle;\n",
       "    }\n",
       "\n",
       "    .dataframe tbody tr th {\n",
       "        vertical-align: top;\n",
       "    }\n",
       "\n",
       "    .dataframe thead th {\n",
       "        text-align: right;\n",
       "    }\n",
       "</style>\n",
       "<table border=\"1\" class=\"dataframe\">\n",
       "  <thead>\n",
       "    <tr style=\"text-align: right;\">\n",
       "      <th>rank</th>\n",
       "      <th>1</th>\n",
       "      <th>2</th>\n",
       "      <th>3</th>\n",
       "      <th>4</th>\n",
       "      <th>5</th>\n",
       "      <th>6</th>\n",
       "      <th>7</th>\n",
       "      <th>8</th>\n",
       "      <th>9</th>\n",
       "      <th>10</th>\n",
       "      <th>11</th>\n",
       "      <th>12</th>\n",
       "      <th>13</th>\n",
       "      <th>14</th>\n",
       "      <th>15</th>\n",
       "      <th>16</th>\n",
       "      <th>17</th>\n",
       "    </tr>\n",
       "    <tr>\n",
       "      <th>cohort_m</th>\n",
       "      <th></th>\n",
       "      <th></th>\n",
       "      <th></th>\n",
       "      <th></th>\n",
       "      <th></th>\n",
       "      <th></th>\n",
       "      <th></th>\n",
       "      <th></th>\n",
       "      <th></th>\n",
       "      <th></th>\n",
       "      <th></th>\n",
       "      <th></th>\n",
       "      <th></th>\n",
       "      <th></th>\n",
       "      <th></th>\n",
       "      <th></th>\n",
       "      <th></th>\n",
       "    </tr>\n",
       "  </thead>\n",
       "  <tbody>\n",
       "    <tr>\n",
       "      <th>2017-01</th>\n",
       "      <td>0.002789</td>\n",
       "      <td>0.002789</td>\n",
       "      <td>0.001395</td>\n",
       "      <td>0.004184</td>\n",
       "      <td>0.001395</td>\n",
       "      <td>0.004184</td>\n",
       "      <td>0.001395</td>\n",
       "      <td>0.001395</td>\n",
       "      <td>0.004184</td>\n",
       "      <td>0.001395</td>\n",
       "      <td>0.006974</td>\n",
       "      <td>0.004184</td>\n",
       "      <td>0.001395</td>\n",
       "      <td>0.001395</td>\n",
       "      <td>0.002789</td>\n",
       "      <td>0.004184</td>\n",
       "      <td>0.001395</td>\n",
       "    </tr>\n",
       "    <tr>\n",
       "      <th>2017-02</th>\n",
       "      <td>0.001843</td>\n",
       "      <td>0.003071</td>\n",
       "      <td>0.001229</td>\n",
       "      <td>0.004300</td>\n",
       "      <td>0.001229</td>\n",
       "      <td>0.002457</td>\n",
       "      <td>0.001843</td>\n",
       "      <td>0.001229</td>\n",
       "      <td>0.001843</td>\n",
       "      <td>0.001229</td>\n",
       "      <td>0.003071</td>\n",
       "      <td>0.001229</td>\n",
       "      <td>0.001843</td>\n",
       "      <td>0.001229</td>\n",
       "      <td>0.000614</td>\n",
       "      <td>0.000614</td>\n",
       "      <td>0.001843</td>\n",
       "    </tr>\n",
       "    <tr>\n",
       "      <th>2017-03</th>\n",
       "      <td>0.004395</td>\n",
       "      <td>0.003596</td>\n",
       "      <td>0.003995</td>\n",
       "      <td>0.003596</td>\n",
       "      <td>0.001598</td>\n",
       "      <td>0.001598</td>\n",
       "      <td>0.003196</td>\n",
       "      <td>0.003196</td>\n",
       "      <td>0.000799</td>\n",
       "      <td>0.003596</td>\n",
       "      <td>0.001199</td>\n",
       "      <td>0.001998</td>\n",
       "      <td>0.001199</td>\n",
       "      <td>0.001598</td>\n",
       "      <td>0.002397</td>\n",
       "      <td>0.000799</td>\n",
       "      <td>0.001199</td>\n",
       "    </tr>\n",
       "    <tr>\n",
       "      <th>2017-04</th>\n",
       "      <td>0.006206</td>\n",
       "      <td>0.002216</td>\n",
       "      <td>0.001773</td>\n",
       "      <td>0.002660</td>\n",
       "      <td>0.002660</td>\n",
       "      <td>0.003546</td>\n",
       "      <td>0.003103</td>\n",
       "      <td>0.003103</td>\n",
       "      <td>0.001773</td>\n",
       "      <td>0.002660</td>\n",
       "      <td>0.000887</td>\n",
       "      <td>0.000443</td>\n",
       "      <td>0.000443</td>\n",
       "      <td>0.000887</td>\n",
       "      <td>0.000887</td>\n",
       "      <td>0.001330</td>\n",
       "      <td>NaN</td>\n",
       "    </tr>\n",
       "    <tr>\n",
       "      <th>2017-05</th>\n",
       "      <td>0.004636</td>\n",
       "      <td>0.004636</td>\n",
       "      <td>0.002898</td>\n",
       "      <td>0.002898</td>\n",
       "      <td>0.003187</td>\n",
       "      <td>0.004057</td>\n",
       "      <td>0.001449</td>\n",
       "      <td>0.002608</td>\n",
       "      <td>0.002608</td>\n",
       "      <td>0.002608</td>\n",
       "      <td>0.003477</td>\n",
       "      <td>0.002318</td>\n",
       "      <td>0.000290</td>\n",
       "      <td>0.001739</td>\n",
       "      <td>0.002028</td>\n",
       "      <td>NaN</td>\n",
       "      <td>NaN</td>\n",
       "    </tr>\n",
       "    <tr>\n",
       "      <th>2017-06</th>\n",
       "      <td>0.004939</td>\n",
       "      <td>0.003951</td>\n",
       "      <td>0.004281</td>\n",
       "      <td>0.002963</td>\n",
       "      <td>0.003951</td>\n",
       "      <td>0.003622</td>\n",
       "      <td>0.002305</td>\n",
       "      <td>0.001317</td>\n",
       "      <td>0.001976</td>\n",
       "      <td>0.002963</td>\n",
       "      <td>0.003622</td>\n",
       "      <td>0.001646</td>\n",
       "      <td>0.001646</td>\n",
       "      <td>0.002305</td>\n",
       "      <td>NaN</td>\n",
       "      <td>NaN</td>\n",
       "      <td>NaN</td>\n",
       "    </tr>\n",
       "    <tr>\n",
       "      <th>2017-07</th>\n",
       "      <td>0.005330</td>\n",
       "      <td>0.003465</td>\n",
       "      <td>0.002399</td>\n",
       "      <td>0.002932</td>\n",
       "      <td>0.002132</td>\n",
       "      <td>0.003198</td>\n",
       "      <td>0.001066</td>\n",
       "      <td>0.001866</td>\n",
       "      <td>0.002665</td>\n",
       "      <td>0.002132</td>\n",
       "      <td>0.002932</td>\n",
       "      <td>0.001333</td>\n",
       "      <td>0.002399</td>\n",
       "      <td>NaN</td>\n",
       "      <td>NaN</td>\n",
       "      <td>NaN</td>\n",
       "      <td>NaN</td>\n",
       "    </tr>\n",
       "    <tr>\n",
       "      <th>2017-08</th>\n",
       "      <td>0.006902</td>\n",
       "      <td>0.003451</td>\n",
       "      <td>0.002711</td>\n",
       "      <td>0.003451</td>\n",
       "      <td>0.005176</td>\n",
       "      <td>0.002958</td>\n",
       "      <td>0.002711</td>\n",
       "      <td>0.001479</td>\n",
       "      <td>0.001479</td>\n",
       "      <td>0.002465</td>\n",
       "      <td>0.001972</td>\n",
       "      <td>0.001232</td>\n",
       "      <td>NaN</td>\n",
       "      <td>NaN</td>\n",
       "      <td>NaN</td>\n",
       "      <td>NaN</td>\n",
       "      <td>NaN</td>\n",
       "    </tr>\n",
       "    <tr>\n",
       "      <th>2017-09</th>\n",
       "      <td>0.006993</td>\n",
       "      <td>0.005495</td>\n",
       "      <td>0.002747</td>\n",
       "      <td>0.004496</td>\n",
       "      <td>0.002248</td>\n",
       "      <td>0.002248</td>\n",
       "      <td>0.002498</td>\n",
       "      <td>0.002747</td>\n",
       "      <td>0.001748</td>\n",
       "      <td>0.002498</td>\n",
       "      <td>0.000749</td>\n",
       "      <td>NaN</td>\n",
       "      <td>NaN</td>\n",
       "      <td>NaN</td>\n",
       "      <td>NaN</td>\n",
       "      <td>NaN</td>\n",
       "      <td>NaN</td>\n",
       "    </tr>\n",
       "    <tr>\n",
       "      <th>2017-10</th>\n",
       "      <td>0.007163</td>\n",
       "      <td>0.002542</td>\n",
       "      <td>0.000924</td>\n",
       "      <td>0.002311</td>\n",
       "      <td>0.002079</td>\n",
       "      <td>0.002079</td>\n",
       "      <td>0.003697</td>\n",
       "      <td>0.002773</td>\n",
       "      <td>0.001848</td>\n",
       "      <td>0.002079</td>\n",
       "      <td>NaN</td>\n",
       "      <td>NaN</td>\n",
       "      <td>NaN</td>\n",
       "      <td>NaN</td>\n",
       "      <td>NaN</td>\n",
       "      <td>NaN</td>\n",
       "      <td>NaN</td>\n",
       "    </tr>\n",
       "    <tr>\n",
       "      <th>2017-11</th>\n",
       "      <td>0.005666</td>\n",
       "      <td>0.003683</td>\n",
       "      <td>0.001700</td>\n",
       "      <td>0.001700</td>\n",
       "      <td>0.001841</td>\n",
       "      <td>0.001133</td>\n",
       "      <td>0.001841</td>\n",
       "      <td>0.001275</td>\n",
       "      <td>0.000567</td>\n",
       "      <td>NaN</td>\n",
       "      <td>NaN</td>\n",
       "      <td>NaN</td>\n",
       "      <td>NaN</td>\n",
       "      <td>NaN</td>\n",
       "      <td>NaN</td>\n",
       "      <td>NaN</td>\n",
       "      <td>NaN</td>\n",
       "    </tr>\n",
       "    <tr>\n",
       "      <th>2017-12</th>\n",
       "      <td>0.002061</td>\n",
       "      <td>0.002810</td>\n",
       "      <td>0.003372</td>\n",
       "      <td>0.002623</td>\n",
       "      <td>0.002061</td>\n",
       "      <td>0.001686</td>\n",
       "      <td>0.000187</td>\n",
       "      <td>0.001873</td>\n",
       "      <td>NaN</td>\n",
       "      <td>NaN</td>\n",
       "      <td>NaN</td>\n",
       "      <td>NaN</td>\n",
       "      <td>NaN</td>\n",
       "      <td>NaN</td>\n",
       "      <td>NaN</td>\n",
       "      <td>NaN</td>\n",
       "      <td>NaN</td>\n",
       "    </tr>\n",
       "  </tbody>\n",
       "</table>\n",
       "</div>"
      ],
      "text/plain": [
       "rank            1         2         3         4         5         6   \\\n",
       "cohort_m                                                               \n",
       "2017-01   0.002789  0.002789  0.001395  0.004184  0.001395  0.004184   \n",
       "2017-02   0.001843  0.003071  0.001229  0.004300  0.001229  0.002457   \n",
       "2017-03   0.004395  0.003596  0.003995  0.003596  0.001598  0.001598   \n",
       "2017-04   0.006206  0.002216  0.001773  0.002660  0.002660  0.003546   \n",
       "2017-05   0.004636  0.004636  0.002898  0.002898  0.003187  0.004057   \n",
       "2017-06   0.004939  0.003951  0.004281  0.002963  0.003951  0.003622   \n",
       "2017-07   0.005330  0.003465  0.002399  0.002932  0.002132  0.003198   \n",
       "2017-08   0.006902  0.003451  0.002711  0.003451  0.005176  0.002958   \n",
       "2017-09   0.006993  0.005495  0.002747  0.004496  0.002248  0.002248   \n",
       "2017-10   0.007163  0.002542  0.000924  0.002311  0.002079  0.002079   \n",
       "2017-11   0.005666  0.003683  0.001700  0.001700  0.001841  0.001133   \n",
       "2017-12   0.002061  0.002810  0.003372  0.002623  0.002061  0.001686   \n",
       "\n",
       "rank            7         8         9         10        11        12  \\\n",
       "cohort_m                                                               \n",
       "2017-01   0.001395  0.001395  0.004184  0.001395  0.006974  0.004184   \n",
       "2017-02   0.001843  0.001229  0.001843  0.001229  0.003071  0.001229   \n",
       "2017-03   0.003196  0.003196  0.000799  0.003596  0.001199  0.001998   \n",
       "2017-04   0.003103  0.003103  0.001773  0.002660  0.000887  0.000443   \n",
       "2017-05   0.001449  0.002608  0.002608  0.002608  0.003477  0.002318   \n",
       "2017-06   0.002305  0.001317  0.001976  0.002963  0.003622  0.001646   \n",
       "2017-07   0.001066  0.001866  0.002665  0.002132  0.002932  0.001333   \n",
       "2017-08   0.002711  0.001479  0.001479  0.002465  0.001972  0.001232   \n",
       "2017-09   0.002498  0.002747  0.001748  0.002498  0.000749       NaN   \n",
       "2017-10   0.003697  0.002773  0.001848  0.002079       NaN       NaN   \n",
       "2017-11   0.001841  0.001275  0.000567       NaN       NaN       NaN   \n",
       "2017-12   0.000187  0.001873       NaN       NaN       NaN       NaN   \n",
       "\n",
       "rank            13        14        15        16        17  \n",
       "cohort_m                                                    \n",
       "2017-01   0.001395  0.001395  0.002789  0.004184  0.001395  \n",
       "2017-02   0.001843  0.001229  0.000614  0.000614  0.001843  \n",
       "2017-03   0.001199  0.001598  0.002397  0.000799  0.001199  \n",
       "2017-04   0.000443  0.000887  0.000887  0.001330       NaN  \n",
       "2017-05   0.000290  0.001739  0.002028       NaN       NaN  \n",
       "2017-06   0.001646  0.002305       NaN       NaN       NaN  \n",
       "2017-07   0.002399       NaN       NaN       NaN       NaN  \n",
       "2017-08        NaN       NaN       NaN       NaN       NaN  \n",
       "2017-09        NaN       NaN       NaN       NaN       NaN  \n",
       "2017-10        NaN       NaN       NaN       NaN       NaN  \n",
       "2017-11        NaN       NaN       NaN       NaN       NaN  \n",
       "2017-12        NaN       NaN       NaN       NaN       NaN  "
      ]
     },
     "execution_count": 59,
     "metadata": {},
     "output_type": "execute_result"
    }
   ],
   "source": [
    "pivot_table\n",
    "#Вид нашей сводной таблицы"
   ]
  },
  {
   "cell_type": "code",
   "execution_count": 60,
   "metadata": {},
   "outputs": [
    {
     "data": {
      "image/png": "[encoded data removed]",
      "text/plain": [
       "<Figure size 1080x576 with 2 Axes>"
      ]
     },
     "metadata": {
      "needs_background": "light"
     },
     "output_type": "display_data"
    }
   ],
   "source": [
    "#Выведу на график для более легкого восприятия информации\n",
    "plt.figure(figsize=(15, 8))\n",
    "sns.heatmap(pivot_table*100, annot=True, fmt=\".2f\", cmap=\"Greens\", cbar_kws={'format': '%.0f%%'})\n",
    "plt.title(\"Retention по когортам\")\n",
    "plt.show()"
   ]
  },
  {
   "cell_type": "markdown",
   "metadata": {},
   "source": [
    "На графике смотрим на 3 месяц. В данном случае он идет под рангом 2, так как расчёт начинается с нуля. Исключил 0 месяц т.к он ухудшает восприятие на графике(100% показатель для 0 месяца). Как видим, во 2 месяце наиболее темный оттенок у когорты 2017-09\n",
    "с Retention Rate 0.55%"
   ]
  },
  {
   "cell_type": "markdown",
   "metadata": {},
   "source": [
    "# Ответ: Когорта 2017-09 имеет наибольший Retention Rate на 3 месяц в период с января по декабрь"
   ]
  },
  {
   "cell_type": "markdown",
   "metadata": {},
   "source": [
    "## 6. Часто для качественного анализа аудитории использую подходы, основанные на сегментации. Используя python, построй RFM-сегментацию пользователей, чтобы качественно оценить свою аудиторию. В кластеризации можешь выбрать следующие метрики: R - время от последней покупки пользователя до текущей даты, F - суммарное количество покупок у пользователя за всё время, M - сумма покупок за всё время. Подробно опиши, как ты создавал кластеры. Для каждого RFM-сегмента построй границы метрик recency, frequency и monetary для интерпретации этих кластеров. Пример такого описания: RFM-сегмент 132 (recency=1, frequency=3, monetary=2) имеет границы метрик recency от 130 до 500 дней, frequency от 2 до 5 заказов в неделю, monetary от 1780 до 3560 рублей в неделю. Описание подхода можно найти тут. (23 балла)"
   ]
  },
  {
   "cell_type": "code",
   "execution_count": 61,
   "metadata": {},
   "outputs": [
    {
     "data": {
      "text/html": [
       "<div>\n",
       "<style scoped>\n",
       "    .dataframe tbody tr th:only-of-type {\n",
       "        vertical-align: middle;\n",
       "    }\n",
       "\n",
       "    .dataframe tbody tr th {\n",
       "        vertical-align: top;\n",
       "    }\n",
       "\n",
       "    .dataframe thead th {\n",
       "        text-align: right;\n",
       "    }\n",
       "</style>\n",
       "<table border=\"1\" class=\"dataframe\">\n",
       "  <thead>\n",
       "    <tr style=\"text-align: right;\">\n",
       "      <th></th>\n",
       "      <th>order_id</th>\n",
       "      <th>price</th>\n",
       "    </tr>\n",
       "  </thead>\n",
       "  <tbody>\n",
       "    <tr>\n",
       "      <th>0</th>\n",
       "      <td>00010242fe8c5a6d1ba2dd792cb16214</td>\n",
       "      <td>58.90</td>\n",
       "    </tr>\n",
       "    <tr>\n",
       "      <th>1</th>\n",
       "      <td>00018f77f2f0320c557190d7a144bdd3</td>\n",
       "      <td>239.90</td>\n",
       "    </tr>\n",
       "    <tr>\n",
       "      <th>2</th>\n",
       "      <td>000229ec398224ef6ca0657da4fc703e</td>\n",
       "      <td>199.00</td>\n",
       "    </tr>\n",
       "    <tr>\n",
       "      <th>3</th>\n",
       "      <td>00024acbcdf0a6daa1e931b038114c75</td>\n",
       "      <td>12.99</td>\n",
       "    </tr>\n",
       "    <tr>\n",
       "      <th>4</th>\n",
       "      <td>00042b26cf59d7ce69dfabb4e55b4fd9</td>\n",
       "      <td>199.90</td>\n",
       "    </tr>\n",
       "    <tr>\n",
       "      <th>...</th>\n",
       "      <td>...</td>\n",
       "      <td>...</td>\n",
       "    </tr>\n",
       "    <tr>\n",
       "      <th>98661</th>\n",
       "      <td>fffc94f6ce00a00581880bf54a75a037</td>\n",
       "      <td>299.99</td>\n",
       "    </tr>\n",
       "    <tr>\n",
       "      <th>98662</th>\n",
       "      <td>fffcd46ef2263f404302a634eb57f7eb</td>\n",
       "      <td>350.00</td>\n",
       "    </tr>\n",
       "    <tr>\n",
       "      <th>98663</th>\n",
       "      <td>fffce4705a9662cd70adb13d4a31832d</td>\n",
       "      <td>99.90</td>\n",
       "    </tr>\n",
       "    <tr>\n",
       "      <th>98664</th>\n",
       "      <td>fffe18544ffabc95dfada21779c9644f</td>\n",
       "      <td>55.99</td>\n",
       "    </tr>\n",
       "    <tr>\n",
       "      <th>98665</th>\n",
       "      <td>fffe41c64501cc87c801fd61db3f6244</td>\n",
       "      <td>43.00</td>\n",
       "    </tr>\n",
       "  </tbody>\n",
       "</table>\n",
       "<p>98666 rows × 2 columns</p>\n",
       "</div>"
      ],
      "text/plain": [
       "                               order_id   price\n",
       "0      00010242fe8c5a6d1ba2dd792cb16214   58.90\n",
       "1      00018f77f2f0320c557190d7a144bdd3  239.90\n",
       "2      000229ec398224ef6ca0657da4fc703e  199.00\n",
       "3      00024acbcdf0a6daa1e931b038114c75   12.99\n",
       "4      00042b26cf59d7ce69dfabb4e55b4fd9  199.90\n",
       "...                                 ...     ...\n",
       "98661  fffc94f6ce00a00581880bf54a75a037  299.99\n",
       "98662  fffcd46ef2263f404302a634eb57f7eb  350.00\n",
       "98663  fffce4705a9662cd70adb13d4a31832d   99.90\n",
       "98664  fffe18544ffabc95dfada21779c9644f   55.99\n",
       "98665  fffe41c64501cc87c801fd61db3f6244   43.00\n",
       "\n",
       "[98666 rows x 2 columns]"
      ]
     },
     "execution_count": 61,
     "metadata": {},
     "output_type": "execute_result"
    }
   ],
   "source": [
    "order_price=order_items.groupby('order_id',as_index=False).agg({'price':'sum'})\n",
    "order_price"
   ]
  },
  {
   "cell_type": "code",
   "execution_count": 62,
   "metadata": {},
   "outputs": [],
   "source": [
    "for_rfm=orders.merge(customers,how='left',on='customer_id')"
   ]
  },
  {
   "cell_type": "code",
   "execution_count": 63,
   "metadata": {},
   "outputs": [],
   "source": [
    "for_rfm=for_rfm.merge(order_price,how='left',on='order_id')"
   ]
  },
  {
   "cell_type": "code",
   "execution_count": 64,
   "metadata": {},
   "outputs": [],
   "source": [
    "for_rfm_total=for_rfm.query('order_status==\"delivered\"')\\\n",
    ".groupby('customer_unique_id',as_index=False)\\\n",
    ".agg({'order_purchase_timestamp':'max',\n",
    "      'order_id':'nunique',\n",
    "      'price':'sum',})\\"
   ]
  },
  {
   "cell_type": "code",
   "execution_count": 65,
   "metadata": {},
   "outputs": [],
   "source": [
    "for_rfm_total['Recency']=maybe_today_date-for_rfm_total['order_purchase_timestamp']"
   ]
  },
  {
   "cell_type": "code",
   "execution_count": 66,
   "metadata": {},
   "outputs": [],
   "source": [
    "for_rfm_total.columns=['User_id','order_purchase_timestamp','Frequency','Monetary','Recency']"
   ]
  },
  {
   "cell_type": "code",
   "execution_count": 67,
   "metadata": {},
   "outputs": [],
   "source": [
    "for_rfm_total['Recency']=for_rfm_total['Recency'].dt.days"
   ]
  },
  {
   "cell_type": "code",
   "execution_count": 68,
   "metadata": {},
   "outputs": [],
   "source": [
    "rfm_total=for_rfm_total[['User_id','Recency','Frequency','Monetary']]"
   ]
  },
  {
   "cell_type": "code",
   "execution_count": 69,
   "metadata": {},
   "outputs": [
    {
     "data": {
      "text/html": [
       "<div>\n",
       "<style scoped>\n",
       "    .dataframe tbody tr th:only-of-type {\n",
       "        vertical-align: middle;\n",
       "    }\n",
       "\n",
       "    .dataframe tbody tr th {\n",
       "        vertical-align: top;\n",
       "    }\n",
       "\n",
       "    .dataframe thead th {\n",
       "        text-align: right;\n",
       "    }\n",
       "</style>\n",
       "<table border=\"1\" class=\"dataframe\">\n",
       "  <thead>\n",
       "    <tr style=\"text-align: right;\">\n",
       "      <th></th>\n",
       "      <th>Recency</th>\n",
       "      <th>Frequency</th>\n",
       "      <th>Monetary</th>\n",
       "    </tr>\n",
       "  </thead>\n",
       "  <tbody>\n",
       "    <tr>\n",
       "      <th>count</th>\n",
       "      <td>93358.000000</td>\n",
       "      <td>93358.000000</td>\n",
       "      <td>93358.000000</td>\n",
       "    </tr>\n",
       "    <tr>\n",
       "      <th>mean</th>\n",
       "      <td>286.115052</td>\n",
       "      <td>1.033420</td>\n",
       "      <td>141.621480</td>\n",
       "    </tr>\n",
       "    <tr>\n",
       "      <th>std</th>\n",
       "      <td>152.591858</td>\n",
       "      <td>0.209097</td>\n",
       "      <td>215.694014</td>\n",
       "    </tr>\n",
       "    <tr>\n",
       "      <th>min</th>\n",
       "      <td>49.000000</td>\n",
       "      <td>1.000000</td>\n",
       "      <td>0.850000</td>\n",
       "    </tr>\n",
       "    <tr>\n",
       "      <th>25%</th>\n",
       "      <td>163.000000</td>\n",
       "      <td>1.000000</td>\n",
       "      <td>47.650000</td>\n",
       "    </tr>\n",
       "    <tr>\n",
       "      <th>50%</th>\n",
       "      <td>267.000000</td>\n",
       "      <td>1.000000</td>\n",
       "      <td>89.730000</td>\n",
       "    </tr>\n",
       "    <tr>\n",
       "      <th>75%</th>\n",
       "      <td>394.000000</td>\n",
       "      <td>1.000000</td>\n",
       "      <td>154.737500</td>\n",
       "    </tr>\n",
       "    <tr>\n",
       "      <th>max</th>\n",
       "      <td>762.000000</td>\n",
       "      <td>15.000000</td>\n",
       "      <td>13440.000000</td>\n",
       "    </tr>\n",
       "  </tbody>\n",
       "</table>\n",
       "</div>"
      ],
      "text/plain": [
       "            Recency     Frequency      Monetary\n",
       "count  93358.000000  93358.000000  93358.000000\n",
       "mean     286.115052      1.033420    141.621480\n",
       "std      152.591858      0.209097    215.694014\n",
       "min       49.000000      1.000000      0.850000\n",
       "25%      163.000000      1.000000     47.650000\n",
       "50%      267.000000      1.000000     89.730000\n",
       "75%      394.000000      1.000000    154.737500\n",
       "max      762.000000     15.000000  13440.000000"
      ]
     },
     "execution_count": 69,
     "metadata": {},
     "output_type": "execute_result"
    }
   ],
   "source": [
    "rfm_total.describe()"
   ]
  },
  {
   "cell_type": "code",
   "execution_count": 70,
   "metadata": {},
   "outputs": [],
   "source": [
    "rm_quintiles = rfm_total[['Recency', 'Monetary']].quantile([.20,.40, .60,.80]).to_dict()\n",
    "f_quintiles  = rfm_total[['Frequency']].quantile([.98,.9999]).to_dict()"
   ]
  },
  {
   "cell_type": "code",
   "execution_count": 71,
   "metadata": {},
   "outputs": [
    {
     "data": {
      "text/plain": [
       "{'Frequency': {0.98: 2.0, 0.9999: 5.664299999989453}}"
      ]
     },
     "execution_count": 71,
     "metadata": {},
     "output_type": "execute_result"
    }
   ],
   "source": [
    "rm_quintiles\n",
    "f_quintiles"
   ]
  },
  {
   "cell_type": "code",
   "execution_count": 72,
   "metadata": {},
   "outputs": [],
   "source": [
    "def r_score(x):\n",
    "    if x <= rm_quintiles['Recency'][.2]:\n",
    "        return 5\n",
    "    elif x <= rm_quintiles['Recency'][.4]:\n",
    "        return 4\n",
    "    elif x <= rm_quintiles['Recency'][.6]:\n",
    "        return 3\n",
    "    elif x <= rm_quintiles['Recency'][.8]:\n",
    "        return 2\n",
    "    else:\n",
    "        return 1 \n",
    "\n",
    "def m_score(x):\n",
    "    if x <= rm_quintiles['Monetary'][.2]:\n",
    "        return 1\n",
    "    elif x <= rm_quintiles['Monetary'][.4]:\n",
    "        return 2\n",
    "    elif x <= rm_quintiles['Monetary'][.6]:\n",
    "        return 3\n",
    "    elif x <= rm_quintiles['Monetary'][.8]:\n",
    "        return 4\n",
    "    else:\n",
    "        return 5\n",
    "    \n",
    "def f_score(x):\n",
    "    if x <= f_quintiles['Frequency'][.98]:\n",
    "        return 1\n",
    "    if x <= f_quintiles['Frequency'][.9999]:\n",
    "        return 2\n",
    "    else:\n",
    "        return 3"
   ]
  },
  {
   "cell_type": "code",
   "execution_count": 73,
   "metadata": {},
   "outputs": [],
   "source": [
    "rfm_total['R'] = rfm_total['Recency'].apply(lambda   x: r_score(x))\n",
    "rfm_total['F'] = rfm_total['Frequency'].apply(lambda x: f_score(x))\n",
    "rfm_total['M'] = rfm_total['Monetary'].apply(lambda  x: m_score(x))"
   ]
  },
  {
   "cell_type": "code",
   "execution_count": 74,
   "metadata": {},
   "outputs": [],
   "source": [
    "rfm_total['RFM Score'] = rfm_total['R'].map(str) + rfm_total['F'].map(str) + rfm_total['M'].map(str)"
   ]
  },
  {
   "cell_type": "code",
   "execution_count": 75,
   "metadata": {},
   "outputs": [],
   "source": [
    "rfm=rfm_total"
   ]
  },
  {
   "cell_type": "code",
   "execution_count": 76,
   "metadata": {},
   "outputs": [],
   "source": [
    "segt_map = {\n",
    "    r'[1-2][1-2][1-2]': 'Уснувшие',\n",
    "    r'[1-2][1-3][2-5]': 'Стоит пробудить',\n",
    "    r'[3-5][2-3][1-5]': 'Лояльные клиенты',\n",
    "    r'[4-5][1-3][4-5]': 'Основные клиенты',\n",
    "    r'[4-5]1[1-2]': 'Новые пользователи',\n",
    "    r'[4-5]1[3-5]': 'Многообещающие',\n",
    "    r'3[1-3][1-5]': 'Засыпают'\n",
    "}\n",
    "rfm['Segment'] = rfm['R'].map(str) + rfm['F'].map(str) + rfm['M'].map(str)\n",
    "rfm['Segment'] = rfm['Segment'].replace(segt_map, regex=True)\n"
   ]
  },
  {
   "cell_type": "markdown",
   "metadata": {},
   "source": [
    " R - время от последней покупки пользователя до текущей даты, \n",
    " F - суммарное количество покупок у пользователя за всё время, \n",
    " M - сумма покупок за всё время."
   ]
  },
  {
   "cell_type": "code",
   "execution_count": 77,
   "metadata": {},
   "outputs": [
    {
     "data": {
      "text/plain": [
       "array(['Основные клиенты', 'Новые пользователи', 'Уснувшие',\n",
       "       'Стоит пробудить', 'Засыпают', 'Многообещающие',\n",
       "       'Лояльные клиенты'], dtype=object)"
      ]
     },
     "execution_count": 77,
     "metadata": {},
     "output_type": "execute_result"
    }
   ],
   "source": [
    "rfm.Segment.unique()"
   ]
  },
  {
   "cell_type": "markdown",
   "metadata": {},
   "source": [
    "В целом, два показателя разделил на 5 рангов это Recency и Monetary. Значения различаются в зависимости от процентиля. \n",
    "Но показатель Frequency, поделил на 3 ранга, т.к он до 0.98 был равен  = 1 и данные просто перескачат сразу на ранг 5. По этой причине 1-2 заказа это ранг 1, больше 2 и до 5 это 3 заказа и выше 5 заказов это 3 Rank Frequency.\n",
    "\n",
    "Переходя далее:\n",
    "\n",
    "Итого сегментов: 7 видов сегментов\n",
    "\n",
    "1.Новые пользователи - Совершие не так давно заказ, будем наблюдать за их продвижением\n",
    "\n",
    "2.Многообещающие - Опять же пользователи пришли недавно, но их различие в том что они у них выше чеки и потенциально имеют большее влияние\n",
    "\n",
    "3.Уснувшие - Клиенты с небольшим чеком и частотой заказа, которые длительное время не совершают заказы\n",
    "\n",
    "4.Стоит пробудить - Клиенты с высоким чеком или частотой, либо и то и другое на высоком уровне. Однако, уже очень длительное время не совершают какие-либо заказы. Их беру во внимание как сегмент тех, кому стоит направить пуш или акцию для пробуждения\n",
    "\n",
    "5.Засыпают - Сегмент клиентов, который в процессе того чтобы перейти в статус Уснувших. Из-за того что они не так давно делали заказ и вполне могут уснуть. Им вполне можно направить напоминалку избранных товаров или прочего, что они рассматривалли на платформе.\n",
    "\n",
    "6.Основные клиенты - на текущий момент основная аудитория проекта с высоким чеком и недавней покупкой. Приносящая большую долю прибыли \n",
    "\n",
    "7.Лояльные клиенты - Клиенты с высокой частотой заказа, независимо от суммы чека. С лояльностью есть нюансы, очень низкая доля людей, которые совершают покупки больше одного раза\n",
    "\n"
   ]
  },
  {
   "cell_type": "code",
   "execution_count": 78,
   "metadata": {},
   "outputs": [],
   "source": [
    "for_fig=rfm.groupby('Segment',as_index=False).agg({'User_id':'count'})"
   ]
  },
  {
   "cell_type": "code",
   "execution_count": 81,
   "metadata": {},
   "outputs": [
    {
     "data": {
      "application/vnd.plotly.v1+json": {
       "config": {
        "plotlyServerURL": "https://plot.ly"
       },
       "data": [
        {
         "branchvalues": "total",
         "domain": {
          "x": [
           0,
           1
          ],
          "y": [
           0,
           1
          ]
         },
         "hovertemplate": "labels=%{label}<br>User_id=%{value}<br>parent=%{parent}<br>id=%{id}<extra></extra>",
         "ids": [
          "Засыпают",
          "Лояльные клиенты",
          "Многообещающие",
          "Новые пользователи",
          "Основные клиенты",
          "Стоит пробудить",
          "Уснувшие"
         ],
         "labels": [
          "Засыпают",
          "Лояльные клиенты",
          "Многообещающие",
          "Новые пользователи",
          "Основные клиенты",
          "Стоит пробудить",
          "Уснувшие"
         ],
         "name": "",
         "parents": [
          "",
          "",
          "",
          "",
          "",
          "",
          ""
         ],
         "type": "treemap",
         "values": [
          18651,
          157,
          6882,
          15136,
          15260,
          21395,
          15877
         ]
        }
       ],
       "layout": {
        "height": 400,
        "legend": {
         "tracegroupgap": 0
        },
        "margin": {
         "b": 25,
         "l": 25,
         "r": 25,
         "t": 50
        },
        "template": {
         "data": {
          "bar": [
           {
            "error_x": {
             "color": "#2a3f5f"
            },
            "error_y": {
             "color": "#2a3f5f"
            },
            "marker": {
             "line": {
              "color": "#E5ECF6",
              "width": 0.5
             }
            },
            "type": "bar"
           }
          ],
          "barpolar": [
           {
            "marker": {
             "line": {
              "color": "#E5ECF6",
              "width": 0.5
             }
            },
            "type": "barpolar"
           }
          ],
          "carpet": [
           {
            "aaxis": {
             "endlinecolor": "#2a3f5f",
             "gridcolor": "white",
             "linecolor": "white",
             "minorgridcolor": "white",
             "startlinecolor": "#2a3f5f"
            },
            "baxis": {
             "endlinecolor": "#2a3f5f",
             "gridcolor": "white",
             "linecolor": "white",
             "minorgridcolor": "white",
             "startlinecolor": "#2a3f5f"
            },
            "type": "carpet"
           }
          ],
          "choropleth": [
           {
            "colorbar": {
             "outlinewidth": 0,
             "ticks": ""
            },
            "type": "choropleth"
           }
          ],
          "contour": [
           {
            "colorbar": {
             "outlinewidth": 0,
             "ticks": ""
            },
            "colorscale": [
             [
              0,
              "#0d0887"
             ],
             [
              0.1111111111111111,
              "#46039f"
             ],
             [
              0.2222222222222222,
              "#7201a8"
             ],
             [
              0.3333333333333333,
              "#9c179e"
             ],
             [
              0.4444444444444444,
              "#bd3786"
             ],
             [
              0.5555555555555556,
              "#d8576b"
             ],
             [
              0.6666666666666666,
              "#ed7953"
             ],
             [
              0.7777777777777778,
              "#fb9f3a"
             ],
             [
              0.8888888888888888,
              "#fdca26"
             ],
             [
              1,
              "#f0f921"
             ]
            ],
            "type": "contour"
           }
          ],
          "contourcarpet": [
           {
            "colorbar": {
             "outlinewidth": 0,
             "ticks": ""
            },
            "type": "contourcarpet"
           }
          ],
          "heatmap": [
           {
            "colorbar": {
             "outlinewidth": 0,
             "ticks": ""
            },
            "colorscale": [
             [
              0,
              "#0d0887"
             ],
             [
              0.1111111111111111,
              "#46039f"
             ],
             [
              0.2222222222222222,
              "#7201a8"
             ],
             [
              0.3333333333333333,
              "#9c179e"
             ],
             [
              0.4444444444444444,
              "#bd3786"
             ],
             [
              0.5555555555555556,
              "#d8576b"
             ],
             [
              0.6666666666666666,
              "#ed7953"
             ],
             [
              0.7777777777777778,
              "#fb9f3a"
             ],
             [
              0.8888888888888888,
              "#fdca26"
             ],
             [
              1,
              "#f0f921"
             ]
            ],
            "type": "heatmap"
           }
          ],
          "heatmapgl": [
           {
            "colorbar": {
             "outlinewidth": 0,
             "ticks": ""
            },
            "colorscale": [
             [
              0,
              "#0d0887"
             ],
             [
              0.1111111111111111,
              "#46039f"
             ],
             [
              0.2222222222222222,
              "#7201a8"
             ],
             [
              0.3333333333333333,
              "#9c179e"
             ],
             [
              0.4444444444444444,
              "#bd3786"
             ],
             [
              0.5555555555555556,
              "#d8576b"
             ],
             [
              0.6666666666666666,
              "#ed7953"
             ],
             [
              0.7777777777777778,
              "#fb9f3a"
             ],
             [
              0.8888888888888888,
              "#fdca26"
             ],
             [
              1,
              "#f0f921"
             ]
            ],
            "type": "heatmapgl"
           }
          ],
          "histogram": [
           {
            "marker": {
             "colorbar": {
              "outlinewidth": 0,
              "ticks": ""
             }
            },
            "type": "histogram"
           }
          ],
          "histogram2d": [
           {
            "colorbar": {
             "outlinewidth": 0,
             "ticks": ""
            },
            "colorscale": [
             [
              0,
              "#0d0887"
             ],
             [
              0.1111111111111111,
              "#46039f"
             ],
             [
              0.2222222222222222,
              "#7201a8"
             ],
             [
              0.3333333333333333,
              "#9c179e"
             ],
             [
              0.4444444444444444,
              "#bd3786"
             ],
             [
              0.5555555555555556,
              "#d8576b"
             ],
             [
              0.6666666666666666,
              "#ed7953"
             ],
             [
              0.7777777777777778,
              "#fb9f3a"
             ],
             [
              0.8888888888888888,
              "#fdca26"
             ],
             [
              1,
              "#f0f921"
             ]
            ],
            "type": "histogram2d"
           }
          ],
          "histogram2dcontour": [
           {
            "colorbar": {
             "outlinewidth": 0,
             "ticks": ""
            },
            "colorscale": [
             [
              0,
              "#0d0887"
             ],
             [
              0.1111111111111111,
              "#46039f"
             ],
             [
              0.2222222222222222,
              "#7201a8"
             ],
             [
              0.3333333333333333,
              "#9c179e"
             ],
             [
              0.4444444444444444,
              "#bd3786"
             ],
             [
              0.5555555555555556,
              "#d8576b"
             ],
             [
              0.6666666666666666,
              "#ed7953"
             ],
             [
              0.7777777777777778,
              "#fb9f3a"
             ],
             [
              0.8888888888888888,
              "#fdca26"
             ],
             [
              1,
              "#f0f921"
             ]
            ],
            "type": "histogram2dcontour"
           }
          ],
          "mesh3d": [
           {
            "colorbar": {
             "outlinewidth": 0,
             "ticks": ""
            },
            "type": "mesh3d"
           }
          ],
          "parcoords": [
           {
            "line": {
             "colorbar": {
              "outlinewidth": 0,
              "ticks": ""
             }
            },
            "type": "parcoords"
           }
          ],
          "pie": [
           {
            "automargin": true,
            "type": "pie"
           }
          ],
          "scatter": [
           {
            "marker": {
             "colorbar": {
              "outlinewidth": 0,
              "ticks": ""
             }
            },
            "type": "scatter"
           }
          ],
          "scatter3d": [
           {
            "line": {
             "colorbar": {
              "outlinewidth": 0,
              "ticks": ""
             }
            },
            "marker": {
             "colorbar": {
              "outlinewidth": 0,
              "ticks": ""
             }
            },
            "type": "scatter3d"
           }
          ],
          "scattercarpet": [
           {
            "marker": {
             "colorbar": {
              "outlinewidth": 0,
              "ticks": ""
             }
            },
            "type": "scattercarpet"
           }
          ],
          "scattergeo": [
           {
            "marker": {
             "colorbar": {
              "outlinewidth": 0,
              "ticks": ""
             }
            },
            "type": "scattergeo"
           }
          ],
          "scattergl": [
           {
            "marker": {
             "colorbar": {
              "outlinewidth": 0,
              "ticks": ""
             }
            },
            "type": "scattergl"
           }
          ],
          "scattermapbox": [
           {
            "marker": {
             "colorbar": {
              "outlinewidth": 0,
              "ticks": ""
             }
            },
            "type": "scattermapbox"
           }
          ],
          "scatterpolar": [
           {
            "marker": {
             "colorbar": {
              "outlinewidth": 0,
              "ticks": ""
             }
            },
            "type": "scatterpolar"
           }
          ],
          "scatterpolargl": [
           {
            "marker": {
             "colorbar": {
              "outlinewidth": 0,
              "ticks": ""
             }
            },
            "type": "scatterpolargl"
           }
          ],
          "scatterternary": [
           {
            "marker": {
             "colorbar": {
              "outlinewidth": 0,
              "ticks": ""
             }
            },
            "type": "scatterternary"
           }
          ],
          "surface": [
           {
            "colorbar": {
             "outlinewidth": 0,
             "ticks": ""
            },
            "colorscale": [
             [
              0,
              "#0d0887"
             ],
             [
              0.1111111111111111,
              "#46039f"
             ],
             [
              0.2222222222222222,
              "#7201a8"
             ],
             [
              0.3333333333333333,
              "#9c179e"
             ],
             [
              0.4444444444444444,
              "#bd3786"
             ],
             [
              0.5555555555555556,
              "#d8576b"
             ],
             [
              0.6666666666666666,
              "#ed7953"
             ],
             [
              0.7777777777777778,
              "#fb9f3a"
             ],
             [
              0.8888888888888888,
              "#fdca26"
             ],
             [
              1,
              "#f0f921"
             ]
            ],
            "type": "surface"
           }
          ],
          "table": [
           {
            "cells": {
             "fill": {
              "color": "#EBF0F8"
             },
             "line": {
              "color": "white"
             }
            },
            "header": {
             "fill": {
              "color": "#C8D4E3"
             },
             "line": {
              "color": "white"
             }
            },
            "type": "table"
           }
          ]
         },
         "layout": {
          "annotationdefaults": {
           "arrowcolor": "#2a3f5f",
           "arrowhead": 0,
           "arrowwidth": 1
          },
          "coloraxis": {
           "colorbar": {
            "outlinewidth": 0,
            "ticks": ""
           }
          },
          "colorscale": {
           "diverging": [
            [
             0,
             "#8e0152"
            ],
            [
             0.1,
             "#c51b7d"
            ],
            [
             0.2,
             "#de77ae"
            ],
            [
             0.3,
             "#f1b6da"
            ],
            [
             0.4,
             "#fde0ef"
            ],
            [
             0.5,
             "#f7f7f7"
            ],
            [
             0.6,
             "#e6f5d0"
            ],
            [
             0.7,
             "#b8e186"
            ],
            [
             0.8,
             "#7fbc41"
            ],
            [
             0.9,
             "#4d9221"
            ],
            [
             1,
             "#276419"
            ]
           ],
           "sequential": [
            [
             0,
             "#0d0887"
            ],
            [
             0.1111111111111111,
             "#46039f"
            ],
            [
             0.2222222222222222,
             "#7201a8"
            ],
            [
             0.3333333333333333,
             "#9c179e"
            ],
            [
             0.4444444444444444,
             "#bd3786"
            ],
            [
             0.5555555555555556,
             "#d8576b"
            ],
            [
             0.6666666666666666,
             "#ed7953"
            ],
            [
             0.7777777777777778,
             "#fb9f3a"
            ],
            [
             0.8888888888888888,
             "#fdca26"
            ],
            [
             1,
             "#f0f921"
            ]
           ],
           "sequentialminus": [
            [
             0,
             "#0d0887"
            ],
            [
             0.1111111111111111,
             "#46039f"
            ],
            [
             0.2222222222222222,
             "#7201a8"
            ],
            [
             0.3333333333333333,
             "#9c179e"
            ],
            [
             0.4444444444444444,
             "#bd3786"
            ],
            [
             0.5555555555555556,
             "#d8576b"
            ],
            [
             0.6666666666666666,
             "#ed7953"
            ],
            [
             0.7777777777777778,
             "#fb9f3a"
            ],
            [
             0.8888888888888888,
             "#fdca26"
            ],
            [
             1,
             "#f0f921"
            ]
           ]
          },
          "colorway": [
           "#636efa",
           "#EF553B",
           "#00cc96",
           "#ab63fa",
           "#FFA15A",
           "#19d3f3",
           "#FF6692",
           "#B6E880",
           "#FF97FF",
           "#FECB52"
          ],
          "font": {
           "color": "#2a3f5f"
          },
          "geo": {
           "bgcolor": "white",
           "lakecolor": "white",
           "landcolor": "#E5ECF6",
           "showlakes": true,
           "showland": true,
           "subunitcolor": "white"
          },
          "hoverlabel": {
           "align": "left"
          },
          "hovermode": "closest",
          "mapbox": {
           "style": "light"
          },
          "paper_bgcolor": "white",
          "plot_bgcolor": "#E5ECF6",
          "polar": {
           "angularaxis": {
            "gridcolor": "white",
            "linecolor": "white",
            "ticks": ""
           },
           "bgcolor": "#E5ECF6",
           "radialaxis": {
            "gridcolor": "white",
            "linecolor": "white",
            "ticks": ""
           }
          },
          "scene": {
           "xaxis": {
            "backgroundcolor": "#E5ECF6",
            "gridcolor": "white",
            "gridwidth": 2,
            "linecolor": "white",
            "showbackground": true,
            "ticks": "",
            "zerolinecolor": "white"
           },
           "yaxis": {
            "backgroundcolor": "#E5ECF6",
            "gridcolor": "white",
            "gridwidth": 2,
            "linecolor": "white",
            "showbackground": true,
            "ticks": "",
            "zerolinecolor": "white"
           },
           "zaxis": {
            "backgroundcolor": "#E5ECF6",
            "gridcolor": "white",
            "gridwidth": 2,
            "linecolor": "white",
            "showbackground": true,
            "ticks": "",
            "zerolinecolor": "white"
           }
          },
          "shapedefaults": {
           "line": {
            "color": "#2a3f5f"
           }
          },
          "ternary": {
           "aaxis": {
            "gridcolor": "white",
            "linecolor": "white",
            "ticks": ""
           },
           "baxis": {
            "gridcolor": "white",
            "linecolor": "white",
            "ticks": ""
           },
           "bgcolor": "#E5ECF6",
           "caxis": {
            "gridcolor": "white",
            "linecolor": "white",
            "ticks": ""
           }
          },
          "title": {
           "x": 0.05
          },
          "xaxis": {
           "automargin": true,
           "gridcolor": "white",
           "linecolor": "white",
           "ticks": "",
           "title": {
            "standoff": 15
           },
           "zerolinecolor": "white",
           "zerolinewidth": 2
          },
          "yaxis": {
           "automargin": true,
           "gridcolor": "white",
           "linecolor": "white",
           "ticks": "",
           "title": {
            "standoff": 15
           },
           "zerolinecolor": "white",
           "zerolinewidth": 2
          }
         }
        },
        "treemapcolorway": [
         "Red",
         "Yellow",
         "Orange",
         "Blue",
         "LightGreen",
         "Green"
        ],
        "width": 800
       }
      },
      "text/html": [
       "<div>\n",
       "        \n",
       "        \n",
       "            <div id=\"3732370a-479d-4e3e-834f-94da077ebe25\" class=\"plotly-graph-div\" style=\"height:400px; width:800px;\"></div>\n",
       "            <script type=\"text/javascript\">\n",
       "                require([\"plotly\"], function(Plotly) {\n",
       "                    window.PLOTLYENV=window.PLOTLYENV || {};\n",
       "                    \n",
       "                if (document.getElementById(\"3732370a-479d-4e3e-834f-94da077ebe25\")) {\n",
       "                    Plotly.newPlot(\n",
       "                        '3732370a-479d-4e3e-834f-94da077ebe25',\n",
       "                        [{\"branchvalues\": \"total\", \"domain\": {\"x\": [0.0, 1.0], \"y\": [0.0, 1.0]}, \"hovertemplate\": \"labels=%{label}<br>User_id=%{value}<br>parent=%{parent}<br>id=%{id}<extra></extra>\", \"ids\": [\"\\u0417\\u0430\\u0441\\u044b\\u043f\\u0430\\u044e\\u0442\", \"\\u041b\\u043e\\u044f\\u043b\\u044c\\u043d\\u044b\\u0435 \\u043a\\u043b\\u0438\\u0435\\u043d\\u0442\\u044b\", \"\\u041c\\u043d\\u043e\\u0433\\u043e\\u043e\\u0431\\u0435\\u0449\\u0430\\u044e\\u0449\\u0438\\u0435\", \"\\u041d\\u043e\\u0432\\u044b\\u0435 \\u043f\\u043e\\u043b\\u044c\\u0437\\u043e\\u0432\\u0430\\u0442\\u0435\\u043b\\u0438\", \"\\u041e\\u0441\\u043d\\u043e\\u0432\\u043d\\u044b\\u0435 \\u043a\\u043b\\u0438\\u0435\\u043d\\u0442\\u044b\", \"\\u0421\\u0442\\u043e\\u0438\\u0442 \\u043f\\u0440\\u043e\\u0431\\u0443\\u0434\\u0438\\u0442\\u044c\", \"\\u0423\\u0441\\u043d\\u0443\\u0432\\u0448\\u0438\\u0435\"], \"labels\": [\"\\u0417\\u0430\\u0441\\u044b\\u043f\\u0430\\u044e\\u0442\", \"\\u041b\\u043e\\u044f\\u043b\\u044c\\u043d\\u044b\\u0435 \\u043a\\u043b\\u0438\\u0435\\u043d\\u0442\\u044b\", \"\\u041c\\u043d\\u043e\\u0433\\u043e\\u043e\\u0431\\u0435\\u0449\\u0430\\u044e\\u0449\\u0438\\u0435\", \"\\u041d\\u043e\\u0432\\u044b\\u0435 \\u043f\\u043e\\u043b\\u044c\\u0437\\u043e\\u0432\\u0430\\u0442\\u0435\\u043b\\u0438\", \"\\u041e\\u0441\\u043d\\u043e\\u0432\\u043d\\u044b\\u0435 \\u043a\\u043b\\u0438\\u0435\\u043d\\u0442\\u044b\", \"\\u0421\\u0442\\u043e\\u0438\\u0442 \\u043f\\u0440\\u043e\\u0431\\u0443\\u0434\\u0438\\u0442\\u044c\", \"\\u0423\\u0441\\u043d\\u0443\\u0432\\u0448\\u0438\\u0435\"], \"name\": \"\", \"parents\": [\"\", \"\", \"\", \"\", \"\", \"\", \"\"], \"type\": \"treemap\", \"values\": [18651, 157, 6882, 15136, 15260, 21395, 15877]}],\n",
       "                        {\"height\": 400, \"legend\": {\"tracegroupgap\": 0}, \"margin\": {\"b\": 25, \"l\": 25, \"r\": 25, \"t\": 50}, \"template\": {\"data\": {\"bar\": [{\"error_x\": {\"color\": \"#2a3f5f\"}, \"error_y\": {\"color\": \"#2a3f5f\"}, \"marker\": {\"line\": {\"color\": \"#E5ECF6\", \"width\": 0.5}}, \"type\": \"bar\"}], \"barpolar\": [{\"marker\": {\"line\": {\"color\": \"#E5ECF6\", \"width\": 0.5}}, \"type\": \"barpolar\"}], \"carpet\": [{\"aaxis\": {\"endlinecolor\": \"#2a3f5f\", \"gridcolor\": \"white\", \"linecolor\": \"white\", \"minorgridcolor\": \"white\", \"startlinecolor\": \"#2a3f5f\"}, \"baxis\": {\"endlinecolor\": \"#2a3f5f\", \"gridcolor\": \"white\", \"linecolor\": \"white\", \"minorgridcolor\": \"white\", \"startlinecolor\": \"#2a3f5f\"}, \"type\": \"carpet\"}], \"choropleth\": [{\"colorbar\": {\"outlinewidth\": 0, \"ticks\": \"\"}, \"type\": \"choropleth\"}], \"contour\": [{\"colorbar\": {\"outlinewidth\": 0, \"ticks\": \"\"}, \"colorscale\": [[0.0, \"#0d0887\"], [0.1111111111111111, \"#46039f\"], [0.2222222222222222, \"#7201a8\"], [0.3333333333333333, \"#9c179e\"], [0.4444444444444444, \"#bd3786\"], [0.5555555555555556, \"#d8576b\"], [0.6666666666666666, \"#ed7953\"], [0.7777777777777778, \"#fb9f3a\"], [0.8888888888888888, \"#fdca26\"], [1.0, \"#f0f921\"]], \"type\": \"contour\"}], \"contourcarpet\": [{\"colorbar\": {\"outlinewidth\": 0, \"ticks\": \"\"}, \"type\": \"contourcarpet\"}], \"heatmap\": [{\"colorbar\": {\"outlinewidth\": 0, \"ticks\": \"\"}, \"colorscale\": [[0.0, \"#0d0887\"], [0.1111111111111111, \"#46039f\"], [0.2222222222222222, \"#7201a8\"], [0.3333333333333333, \"#9c179e\"], [0.4444444444444444, \"#bd3786\"], [0.5555555555555556, \"#d8576b\"], [0.6666666666666666, \"#ed7953\"], [0.7777777777777778, \"#fb9f3a\"], [0.8888888888888888, \"#fdca26\"], [1.0, \"#f0f921\"]], \"type\": \"heatmap\"}], \"heatmapgl\": [{\"colorbar\": {\"outlinewidth\": 0, \"ticks\": \"\"}, \"colorscale\": [[0.0, \"#0d0887\"], [0.1111111111111111, \"#46039f\"], [0.2222222222222222, \"#7201a8\"], [0.3333333333333333, \"#9c179e\"], [0.4444444444444444, \"#bd3786\"], [0.5555555555555556, \"#d8576b\"], [0.6666666666666666, \"#ed7953\"], [0.7777777777777778, \"#fb9f3a\"], [0.8888888888888888, \"#fdca26\"], [1.0, \"#f0f921\"]], \"type\": \"heatmapgl\"}], \"histogram\": [{\"marker\": {\"colorbar\": {\"outlinewidth\": 0, \"ticks\": \"\"}}, \"type\": \"histogram\"}], \"histogram2d\": [{\"colorbar\": {\"outlinewidth\": 0, \"ticks\": \"\"}, \"colorscale\": [[0.0, \"#0d0887\"], [0.1111111111111111, \"#46039f\"], [0.2222222222222222, \"#7201a8\"], [0.3333333333333333, \"#9c179e\"], [0.4444444444444444, \"#bd3786\"], [0.5555555555555556, \"#d8576b\"], [0.6666666666666666, \"#ed7953\"], [0.7777777777777778, \"#fb9f3a\"], [0.8888888888888888, \"#fdca26\"], [1.0, \"#f0f921\"]], \"type\": \"histogram2d\"}], \"histogram2dcontour\": [{\"colorbar\": {\"outlinewidth\": 0, \"ticks\": \"\"}, \"colorscale\": [[0.0, \"#0d0887\"], [0.1111111111111111, \"#46039f\"], [0.2222222222222222, \"#7201a8\"], [0.3333333333333333, \"#9c179e\"], [0.4444444444444444, \"#bd3786\"], [0.5555555555555556, \"#d8576b\"], [0.6666666666666666, \"#ed7953\"], [0.7777777777777778, \"#fb9f3a\"], [0.8888888888888888, \"#fdca26\"], [1.0, \"#f0f921\"]], \"type\": \"histogram2dcontour\"}], \"mesh3d\": [{\"colorbar\": {\"outlinewidth\": 0, \"ticks\": \"\"}, \"type\": \"mesh3d\"}], \"parcoords\": [{\"line\": {\"colorbar\": {\"outlinewidth\": 0, \"ticks\": \"\"}}, \"type\": \"parcoords\"}], \"pie\": [{\"automargin\": true, \"type\": \"pie\"}], \"scatter\": [{\"marker\": {\"colorbar\": {\"outlinewidth\": 0, \"ticks\": \"\"}}, \"type\": \"scatter\"}], \"scatter3d\": [{\"line\": {\"colorbar\": {\"outlinewidth\": 0, \"ticks\": \"\"}}, \"marker\": {\"colorbar\": {\"outlinewidth\": 0, \"ticks\": \"\"}}, \"type\": \"scatter3d\"}], \"scattercarpet\": [{\"marker\": {\"colorbar\": {\"outlinewidth\": 0, \"ticks\": \"\"}}, \"type\": \"scattercarpet\"}], \"scattergeo\": [{\"marker\": {\"colorbar\": {\"outlinewidth\": 0, \"ticks\": \"\"}}, \"type\": \"scattergeo\"}], \"scattergl\": [{\"marker\": {\"colorbar\": {\"outlinewidth\": 0, \"ticks\": \"\"}}, \"type\": \"scattergl\"}], \"scattermapbox\": [{\"marker\": {\"colorbar\": {\"outlinewidth\": 0, \"ticks\": \"\"}}, \"type\": \"scattermapbox\"}], \"scatterpolar\": [{\"marker\": {\"colorbar\": {\"outlinewidth\": 0, \"ticks\": \"\"}}, \"type\": \"scatterpolar\"}], \"scatterpolargl\": [{\"marker\": {\"colorbar\": {\"outlinewidth\": 0, \"ticks\": \"\"}}, \"type\": \"scatterpolargl\"}], \"scatterternary\": [{\"marker\": {\"colorbar\": {\"outlinewidth\": 0, \"ticks\": \"\"}}, \"type\": \"scatterternary\"}], \"surface\": [{\"colorbar\": {\"outlinewidth\": 0, \"ticks\": \"\"}, \"colorscale\": [[0.0, \"#0d0887\"], [0.1111111111111111, \"#46039f\"], [0.2222222222222222, \"#7201a8\"], [0.3333333333333333, \"#9c179e\"], [0.4444444444444444, \"#bd3786\"], [0.5555555555555556, \"#d8576b\"], [0.6666666666666666, \"#ed7953\"], [0.7777777777777778, \"#fb9f3a\"], [0.8888888888888888, \"#fdca26\"], [1.0, \"#f0f921\"]], \"type\": \"surface\"}], \"table\": [{\"cells\": {\"fill\": {\"color\": \"#EBF0F8\"}, \"line\": {\"color\": \"white\"}}, \"header\": {\"fill\": {\"color\": \"#C8D4E3\"}, \"line\": {\"color\": \"white\"}}, \"type\": \"table\"}]}, \"layout\": {\"annotationdefaults\": {\"arrowcolor\": \"#2a3f5f\", \"arrowhead\": 0, \"arrowwidth\": 1}, \"coloraxis\": {\"colorbar\": {\"outlinewidth\": 0, \"ticks\": \"\"}}, \"colorscale\": {\"diverging\": [[0, \"#8e0152\"], [0.1, \"#c51b7d\"], [0.2, \"#de77ae\"], [0.3, \"#f1b6da\"], [0.4, \"#fde0ef\"], [0.5, \"#f7f7f7\"], [0.6, \"#e6f5d0\"], [0.7, \"#b8e186\"], [0.8, \"#7fbc41\"], [0.9, \"#4d9221\"], [1, \"#276419\"]], \"sequential\": [[0.0, \"#0d0887\"], [0.1111111111111111, \"#46039f\"], [0.2222222222222222, \"#7201a8\"], [0.3333333333333333, \"#9c179e\"], [0.4444444444444444, \"#bd3786\"], [0.5555555555555556, \"#d8576b\"], [0.6666666666666666, \"#ed7953\"], [0.7777777777777778, \"#fb9f3a\"], [0.8888888888888888, \"#fdca26\"], [1.0, \"#f0f921\"]], \"sequentialminus\": [[0.0, \"#0d0887\"], [0.1111111111111111, \"#46039f\"], [0.2222222222222222, \"#7201a8\"], [0.3333333333333333, \"#9c179e\"], [0.4444444444444444, \"#bd3786\"], [0.5555555555555556, \"#d8576b\"], [0.6666666666666666, \"#ed7953\"], [0.7777777777777778, \"#fb9f3a\"], [0.8888888888888888, \"#fdca26\"], [1.0, \"#f0f921\"]]}, \"colorway\": [\"#636efa\", \"#EF553B\", \"#00cc96\", \"#ab63fa\", \"#FFA15A\", \"#19d3f3\", \"#FF6692\", \"#B6E880\", \"#FF97FF\", \"#FECB52\"], \"font\": {\"color\": \"#2a3f5f\"}, \"geo\": {\"bgcolor\": \"white\", \"lakecolor\": \"white\", \"landcolor\": \"#E5ECF6\", \"showlakes\": true, \"showland\": true, \"subunitcolor\": \"white\"}, \"hoverlabel\": {\"align\": \"left\"}, \"hovermode\": \"closest\", \"mapbox\": {\"style\": \"light\"}, \"paper_bgcolor\": \"white\", \"plot_bgcolor\": \"#E5ECF6\", \"polar\": {\"angularaxis\": {\"gridcolor\": \"white\", \"linecolor\": \"white\", \"ticks\": \"\"}, \"bgcolor\": \"#E5ECF6\", \"radialaxis\": {\"gridcolor\": \"white\", \"linecolor\": \"white\", \"ticks\": \"\"}}, \"scene\": {\"xaxis\": {\"backgroundcolor\": \"#E5ECF6\", \"gridcolor\": \"white\", \"gridwidth\": 2, \"linecolor\": \"white\", \"showbackground\": true, \"ticks\": \"\", \"zerolinecolor\": \"white\"}, \"yaxis\": {\"backgroundcolor\": \"#E5ECF6\", \"gridcolor\": \"white\", \"gridwidth\": 2, \"linecolor\": \"white\", \"showbackground\": true, \"ticks\": \"\", \"zerolinecolor\": \"white\"}, \"zaxis\": {\"backgroundcolor\": \"#E5ECF6\", \"gridcolor\": \"white\", \"gridwidth\": 2, \"linecolor\": \"white\", \"showbackground\": true, \"ticks\": \"\", \"zerolinecolor\": \"white\"}}, \"shapedefaults\": {\"line\": {\"color\": \"#2a3f5f\"}}, \"ternary\": {\"aaxis\": {\"gridcolor\": \"white\", \"linecolor\": \"white\", \"ticks\": \"\"}, \"baxis\": {\"gridcolor\": \"white\", \"linecolor\": \"white\", \"ticks\": \"\"}, \"bgcolor\": \"#E5ECF6\", \"caxis\": {\"gridcolor\": \"white\", \"linecolor\": \"white\", \"ticks\": \"\"}}, \"title\": {\"x\": 0.05}, \"xaxis\": {\"automargin\": true, \"gridcolor\": \"white\", \"linecolor\": \"white\", \"ticks\": \"\", \"title\": {\"standoff\": 15}, \"zerolinecolor\": \"white\", \"zerolinewidth\": 2}, \"yaxis\": {\"automargin\": true, \"gridcolor\": \"white\", \"linecolor\": \"white\", \"ticks\": \"\", \"title\": {\"standoff\": 15}, \"zerolinecolor\": \"white\", \"zerolinewidth\": 2}}}, \"treemapcolorway\": [\"Red\", \"Yellow\", \"Orange\", \"Blue\", \"LightGreen\", \"Green\"], \"width\": 800},\n",
       "                        {\"responsive\": true}\n",
       "                    ).then(function(){\n",
       "                            \n",
       "var gd = document.getElementById('3732370a-479d-4e3e-834f-94da077ebe25');\n",
       "var x = new MutationObserver(function (mutations, observer) {{\n",
       "        var display = window.getComputedStyle(gd).display;\n",
       "        if (!display || display === 'none') {{\n",
       "            console.log([gd, 'removed!']);\n",
       "            Plotly.purge(gd);\n",
       "            observer.disconnect();\n",
       "        }}\n",
       "}});\n",
       "\n",
       "// Listen for the removal of the full notebook cells\n",
       "var notebookContainer = gd.closest('#notebook-container');\n",
       "if (notebookContainer) {{\n",
       "    x.observe(notebookContainer, {childList: true});\n",
       "}}\n",
       "\n",
       "// Listen for the clearing of the current output cell\n",
       "var outputEl = gd.closest('.output');\n",
       "if (outputEl) {{\n",
       "    x.observe(outputEl, {childList: true});\n",
       "}}\n",
       "\n",
       "                        })\n",
       "                };\n",
       "                });\n",
       "            </script>\n",
       "        </div>"
      ]
     },
     "metadata": {},
     "output_type": "display_data"
    }
   ],
   "source": [
    "fig=px.treemap(for_fig, path=['Segment'],values='User_id', width=800, height=400)\n",
    "fig.update_layout(\n",
    "    treemapcolorway = [\"Red\", \"Yellow\",\"Orange\",\"Blue\",\"LightGreen\",\"Green\"], #defines the colors in the treemap\n",
    "    margin = dict(t=50, l=25, r=25, b=25))\n",
    "fig.show()"
   ]
  },
  {
   "cell_type": "code",
   "execution_count": 80,
   "metadata": {},
   "outputs": [
    {
     "data": {
      "text/html": [
       "<div>\n",
       "<style scoped>\n",
       "    .dataframe tbody tr th:only-of-type {\n",
       "        vertical-align: middle;\n",
       "    }\n",
       "\n",
       "    .dataframe tbody tr th {\n",
       "        vertical-align: top;\n",
       "    }\n",
       "\n",
       "    .dataframe thead th {\n",
       "        text-align: right;\n",
       "    }\n",
       "</style>\n",
       "<table border=\"1\" class=\"dataframe\">\n",
       "  <thead>\n",
       "    <tr style=\"text-align: right;\">\n",
       "      <th></th>\n",
       "      <th>Segment</th>\n",
       "      <th>User_id</th>\n",
       "    </tr>\n",
       "  </thead>\n",
       "  <tbody>\n",
       "    <tr>\n",
       "      <th>0</th>\n",
       "      <td>Засыпают</td>\n",
       "      <td>18651</td>\n",
       "    </tr>\n",
       "    <tr>\n",
       "      <th>1</th>\n",
       "      <td>Лояльные клиенты</td>\n",
       "      <td>157</td>\n",
       "    </tr>\n",
       "    <tr>\n",
       "      <th>2</th>\n",
       "      <td>Многообещающие</td>\n",
       "      <td>6882</td>\n",
       "    </tr>\n",
       "    <tr>\n",
       "      <th>3</th>\n",
       "      <td>Новые пользователи</td>\n",
       "      <td>15136</td>\n",
       "    </tr>\n",
       "    <tr>\n",
       "      <th>4</th>\n",
       "      <td>Основные клиенты</td>\n",
       "      <td>15260</td>\n",
       "    </tr>\n",
       "    <tr>\n",
       "      <th>5</th>\n",
       "      <td>Стоит пробудить</td>\n",
       "      <td>21395</td>\n",
       "    </tr>\n",
       "    <tr>\n",
       "      <th>6</th>\n",
       "      <td>Уснувшие</td>\n",
       "      <td>15877</td>\n",
       "    </tr>\n",
       "  </tbody>\n",
       "</table>\n",
       "</div>"
      ],
      "text/plain": [
       "              Segment  User_id\n",
       "0            Засыпают    18651\n",
       "1    Лояльные клиенты      157\n",
       "2      Многообещающие     6882\n",
       "3  Новые пользователи    15136\n",
       "4    Основные клиенты    15260\n",
       "5     Стоит пробудить    21395\n",
       "6            Уснувшие    15877"
      ]
     },
     "execution_count": 80,
     "metadata": {},
     "output_type": "execute_result"
    }
   ],
   "source": [
    "for_fig"
   ]
  },
  {
   "cell_type": "markdown",
   "metadata": {},
   "source": [
    "В целом, смотря на данные. Выделяется Сегмент Лояльных клиентов, а выделяется он малым количеством среди всех.Очень сильно преобладает факт того, что клиенты делают всего один заказ. Это замечается на данных в процентилях и среднем значений кол-во заказов на клиента. А лояльность подразумевает в себе частоту заказа, независимо от заказа. Ну и дополнительно не добавлял к лояльным клиентов с довольно поздним последним заказом. Данный сегмент вполне можно было не учитывать, но мне показалось что Лояльность один из важных показателей в проекте и понимать насколько высока лояльность среди клиентов будет необходимо. Остальные сегменты описал выше"
   ]
  },
  {
   "cell_type": "code",
   "execution_count": null,
   "metadata": {},
   "outputs": [],
   "source": []
  }
 ],
 "metadata": {
  "kernelspec": {
   "display_name": "Python 3",
   "language": "python",
   "name": "python3"
  },
  "language_info": {
   "codemirror_mode": {
    "name": "ipython",
    "version": 3
   },
   "file_extension": ".py",
   "mimetype": "text/x-python",
   "name": "python",
   "nbconvert_exporter": "python",
   "pygments_lexer": "ipython3",
   "version": "3.7.3"
  }
 },
 "nbformat": 4,
 "nbformat_minor": 4
}
